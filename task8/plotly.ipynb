{
  "nbformat": 4,
  "nbformat_minor": 0,
  "metadata": {
    "colab": {
      "provenance": [],
      "authorship_tag": "ABX9TyOS8RFSu+XJXdxwcjuE77pK",
      "include_colab_link": true
    },
    "kernelspec": {
      "name": "python3",
      "display_name": "Python 3"
    },
    "language_info": {
      "name": "python"
    }
  },
  "cells": [
    {
      "cell_type": "markdown",
      "metadata": {
        "id": "view-in-github",
        "colab_type": "text"
      },
      "source": [
        "<a href=\"https://colab.research.google.com/github/prpawan03/marvel-lvl1/blob/main/task8/plotly.ipynb\" target=\"_parent\"><img src=\"https://colab.research.google.com/assets/colab-badge.svg\" alt=\"Open In Colab\"/></a>"
      ]
    },
    {
      "cell_type": "code",
      "source": [
        "! pip install -U kaleido\n",
        "! pip install datashader\n",
        "! pip install plotly"
      ],
      "metadata": {
        "colab": {
          "base_uri": "https://localhost:8080/"
        },
        "id": "Pm3dCHek33mo",
        "outputId": "49d157d2-a3b6-426f-9ea1-8c0d03f679c9"
      },
      "execution_count": null,
      "outputs": [
        {
          "output_type": "stream",
          "name": "stdout",
          "text": [
            "Requirement already satisfied: kaleido in /usr/local/lib/python3.10/dist-packages (0.2.1)\n",
            "Requirement already satisfied: datashader in /usr/local/lib/python3.10/dist-packages (0.15.2)\n",
            "Requirement already satisfied: colorcet in /usr/local/lib/python3.10/dist-packages (from datashader) (3.0.1)\n",
            "Requirement already satisfied: dask in /usr/local/lib/python3.10/dist-packages (from datashader) (2023.8.1)\n",
            "Requirement already satisfied: datashape in /usr/local/lib/python3.10/dist-packages (from datashader) (0.5.2)\n",
            "Requirement already satisfied: numba in /usr/local/lib/python3.10/dist-packages (from datashader) (0.56.4)\n",
            "Requirement already satisfied: numpy in /usr/local/lib/python3.10/dist-packages (from datashader) (1.23.5)\n",
            "Requirement already satisfied: pandas in /usr/local/lib/python3.10/dist-packages (from datashader) (1.5.3)\n",
            "Requirement already satisfied: param in /usr/local/lib/python3.10/dist-packages (from datashader) (1.13.0)\n",
            "Requirement already satisfied: pillow in /usr/local/lib/python3.10/dist-packages (from datashader) (9.4.0)\n",
            "Requirement already satisfied: pyct in /usr/local/lib/python3.10/dist-packages (from datashader) (0.5.0)\n",
            "Requirement already satisfied: requests in /usr/local/lib/python3.10/dist-packages (from datashader) (2.31.0)\n",
            "Requirement already satisfied: scipy in /usr/local/lib/python3.10/dist-packages (from datashader) (1.10.1)\n",
            "Requirement already satisfied: toolz in /usr/local/lib/python3.10/dist-packages (from datashader) (0.12.0)\n",
            "Requirement already satisfied: xarray in /usr/local/lib/python3.10/dist-packages (from datashader) (2023.7.0)\n",
            "Requirement already satisfied: click>=8.0 in /usr/local/lib/python3.10/dist-packages (from dask->datashader) (8.1.7)\n",
            "Requirement already satisfied: cloudpickle>=1.5.0 in /usr/local/lib/python3.10/dist-packages (from dask->datashader) (2.2.1)\n",
            "Requirement already satisfied: fsspec>=2021.09.0 in /usr/local/lib/python3.10/dist-packages (from dask->datashader) (2023.6.0)\n",
            "Requirement already satisfied: packaging>=20.0 in /usr/local/lib/python3.10/dist-packages (from dask->datashader) (23.1)\n",
            "Requirement already satisfied: partd>=1.2.0 in /usr/local/lib/python3.10/dist-packages (from dask->datashader) (1.4.0)\n",
            "Requirement already satisfied: pyyaml>=5.3.1 in /usr/local/lib/python3.10/dist-packages (from dask->datashader) (6.0.1)\n",
            "Requirement already satisfied: importlib-metadata>=4.13.0 in /usr/local/lib/python3.10/dist-packages (from dask->datashader) (6.8.0)\n",
            "Requirement already satisfied: multipledispatch>=0.4.7 in /usr/local/lib/python3.10/dist-packages (from datashape->datashader) (1.0.0)\n",
            "Requirement already satisfied: python-dateutil in /usr/local/lib/python3.10/dist-packages (from datashape->datashader) (2.8.2)\n",
            "Requirement already satisfied: llvmlite<0.40,>=0.39.0dev0 in /usr/local/lib/python3.10/dist-packages (from numba->datashader) (0.39.1)\n",
            "Requirement already satisfied: setuptools in /usr/local/lib/python3.10/dist-packages (from numba->datashader) (67.7.2)\n",
            "Requirement already satisfied: pytz>=2020.1 in /usr/local/lib/python3.10/dist-packages (from pandas->datashader) (2023.3.post1)\n",
            "Requirement already satisfied: charset-normalizer<4,>=2 in /usr/local/lib/python3.10/dist-packages (from requests->datashader) (3.2.0)\n",
            "Requirement already satisfied: idna<4,>=2.5 in /usr/local/lib/python3.10/dist-packages (from requests->datashader) (3.4)\n",
            "Requirement already satisfied: urllib3<3,>=1.21.1 in /usr/local/lib/python3.10/dist-packages (from requests->datashader) (2.0.4)\n",
            "Requirement already satisfied: certifi>=2017.4.17 in /usr/local/lib/python3.10/dist-packages (from requests->datashader) (2023.7.22)\n",
            "Requirement already satisfied: zipp>=0.5 in /usr/local/lib/python3.10/dist-packages (from importlib-metadata>=4.13.0->dask->datashader) (3.16.2)\n",
            "Requirement already satisfied: locket in /usr/local/lib/python3.10/dist-packages (from partd>=1.2.0->dask->datashader) (1.0.0)\n",
            "Requirement already satisfied: six>=1.5 in /usr/local/lib/python3.10/dist-packages (from python-dateutil->datashape->datashader) (1.16.0)\n",
            "Requirement already satisfied: plotly in /usr/local/lib/python3.10/dist-packages (5.15.0)\n",
            "Requirement already satisfied: tenacity>=6.2.0 in /usr/local/lib/python3.10/dist-packages (from plotly) (8.2.3)\n",
            "Requirement already satisfied: packaging in /usr/local/lib/python3.10/dist-packages (from plotly) (23.1)\n"
          ]
        }
      ]
    },
    {
      "cell_type": "code",
      "execution_count": null,
      "metadata": {
        "colab": {
          "base_uri": "https://localhost:8080/"
        },
        "id": "vK8RE8Oo1X81",
        "outputId": "0f30ab99-76e0-4097-c8f3-a1281a86c606"
      },
      "outputs": [
        {
          "output_type": "stream",
          "name": "stdout",
          "text": [
            "5.15.0\n"
          ]
        }
      ],
      "source": [
        "import plotly\n",
        "from plotly import __version__\n",
        "print(__version__)\n",
        "from plotly.offline import download_plotlyjs, init_notebook_mode, plot, iplot\n"
      ]
    },
    {
      "cell_type": "code",
      "source": [
        "import pandas as pd\n",
        "import plotly.express as px\n",
        "import plotly\n",
        "dfb = pd.read_csv(\"bird-window-collision-death.csv\")\n",
        "df = px.data.tips()\n",
        "fig = px.pie(dfb, values='Deaths', names='Bldg #', color=\"Side\", hole=0.3)\n",
        "fig.show()\n",
        "fig.write_html(\"pie.html\")\n"
      ],
      "metadata": {
        "colab": {
          "base_uri": "https://localhost:8080/",
          "height": 542
        },
        "id": "BWhimWf51yYm",
        "outputId": "8670cce0-26ad-4883-a356-0d26bab8a862"
      },
      "execution_count": null,
      "outputs": [
        {
          "output_type": "display_data",
          "data": {
            "text/html": [
              "<html>\n",
              "<head><meta charset=\"utf-8\" /></head>\n",
              "<body>\n",
              "    <div>            <script src=\"https://cdnjs.cloudflare.com/ajax/libs/mathjax/2.7.5/MathJax.js?config=TeX-AMS-MML_SVG\"></script><script type=\"text/javascript\">if (window.MathJax && window.MathJax.Hub && window.MathJax.Hub.Config) {window.MathJax.Hub.Config({SVG: {font: \"STIX-Web\"}});}</script>                <script type=\"text/javascript\">window.PlotlyConfig = {MathJaxConfig: 'local'};</script>\n",
              "        <script charset=\"utf-8\" src=\"https://cdn.plot.ly/plotly-2.24.1.min.js\"></script>                <div id=\"73e7a193-9672-486e-abf4-ecd482cfed11\" class=\"plotly-graph-div\" style=\"height:525px; width:100%;\"></div>            <script type=\"text/javascript\">                                    window.PLOTLYENV=window.PLOTLYENV || {};                                    if (document.getElementById(\"73e7a193-9672-486e-abf4-ecd482cfed11\")) {                    Plotly.newPlot(                        \"73e7a193-9672-486e-abf4-ecd482cfed11\",                        [{\"customdata\":[[\"E\"],[\"C\"],[\"D\"],[\"B\"],[\"D\"],[\"B\"],[\"B\"],[\"B\"],[\"A\"],[\"B\"],[\"C\"],[\"D\"],[\"C\"],[\"A\"],[\"D\"],[\"C\"],[\"C\"],[\"C\"],[\"C\"],[\"B\"],[\"B\"],[\"B\"],[\"C\"],[\"A\"],[\"D\"],[\"D\"],[\"A\"],[\"C\"],[\"D\"],[\"E\"],[\"C\"],[\"A\"],[\"A\"],[\"D\"],[\"B\"],[\"D\"],[\"D\"],[\"A\"],[\"B\"],[\"C\"],[\"D\"],[\"A\"],[\"C\"],[\"B\"],[\"B\"],[\"F\"],[\"E\"],[\"C\"],[\"A\"],[\"F\"],[\"A\"],[\"D\"],[\"E\"],[\"B\"],[\"E\"],[\"B\"],[\"F\"],[\"B\"],[\"D\"],[\"B\"],[\"C\"],[\"A\"],[\"C\"],[\"B\"],[\"B\"],[\"C\"],[\"B\"],[\"D\"],[\"B\"],[\"A\"],[\"E\"],[\"A\"],[\"A\"],[\"A\"],[\"B\"],[\"C\"],[\"A\"],[\"C\"],[\"C\"],[\"B\"],[\"B\"],[\"G\"],[\"A\"],[\"B\"],[\"D\"],[\"B\"],[\"B\"],[\"D\"],[\"B\"],[\"C\"],[\"B\"],[\"F\"],[\"B\"],[\"D\"],[\"B\"],[\"C\"],[\"B\"],[\"B\"],[\"A\"],[\"A\"],[\"A\"],[\"B\"],[\"D\"],[\"C\"],[\"B\"],[\"D\"],[\"B\"],[\"B\"],[\"B\"],[\"D\"],[\"F\"],[\"D\"],[\"B\"],[\"C\"],[\"B\"],[\"E\"],[\"B\"],[\"C\"],[\"G\"],[\"C\"],[\"D\"],[\"A\"],[\"B\"],[\"A\"],[\"B\"],[\"B\"],[\"C\"],[\"C\"],[\"D\"],[\"B\"],[\"A\"],[\"B\"],[\"F\"],[\"E\"],[\"C\"],[\"C\"],[\"C \"],[\"B\"],[\"G\"],[\"D\"],[\"D\"],[\"A\"],[\"B\"],[\"C\"],[\"A\"],[\"D\"],[\"D\"],[\"C\"],[\"C\"],[\"F\"],[\"E\"],[\"A\"],[\"D\"],[\"A\"],[\"C\"],[\"D\"],[\"D\"],[\"D\"],[\"D\"],[\"B\"],[\"D\"],[\"B\"],[\"B\"],[\"A\"],[\"A\"],[\"D\"],[\"B\"],[\"D\"],[\"D\"],[\"A\\u002fB\"],[\"B\"],[\"B\"],[\"C\"],[\"C\"],[\"D\"],[\"A\"],[\"D\"],[\"A\"],[\"E\"],[\"C\"],[\"B\"],[\"B\"],[\"C\"],[\"C\"],[\"B\"],[\"B\"],[\"B\"],[\"D\"],[\"B\"],[\"D\"],[\"E\"],[\"F\"],[\"A\"],[\"F\"],[\"D\"],[\"C\"],[\"D\"],[\"C\"],[\"C\"],[\"C\"],[\"D\"],[\"C\"],[\"D\"],[\"A\"],[\"C\"],[\"C\"],[\"C\"],[\"C\"],[\"D\"],[\"D\"],[\"B\"],[\"A\"],[\"C\"],[\"E\"],[\"A\"],[\"C\"],[\"B\"],[\"C\"],[\"A\"],[\"A\"],[\"A\"],[\"A\"],[\"G\"],[\"D\"],[\"B\"],[\"E\"],[\"A\"],[\"B\"],[\"A\"],[\"A\"],[\"A\"],[\"B\"],[\"B\"],[\"F\"],[\"B\"],[\"C\"],[\"E\"],[\"E\\u002fA\"],[\"E\\u002fA\"],[\"C\"]],\"domain\":{\"x\":[0.0,1.0],\"y\":[0.0,1.0]},\"hole\":0.3,\"hovertemplate\":\"Bldg #=%{label}\\u003cbr\\u003eDeaths=%{value}\\u003cbr\\u003eSide=%{customdata[0]}\\u003cextra\\u003e\\u003c\\u002fextra\\u003e\",\"labels\":[\"twelve\",\"seventeen\",\"ten\",\"seven\",\"nine\",\"eleven\",\"fifteen\",\"fifteen\",\"twenty\",\"seven\",\"four\",\"eleven\",\"eleven\",\"sixteen\",\"sixteen\",\"three\",\"twelve\",\"eleven\",\"twenty-four\",\"eleven\",\"one\",\"three\",\"eight\",\"eleven\",\"sixteen\",\"seven\",\"four\",\"seven\",\"one\",\"seven\",\"twenty-four\",\"twenty-one\",\"twenty-one\",\"twenty-one\",\"one\",\"eleven\",\"sixteen\",\"one\",\"one\",\"four\",\"two\",\"twenty-one\",\"seven\",\"twenty-three\",\"nine\",\"fifteen\",\"fifteen\",\"one\",\"four\",\"twelve\",\"sixteen\",\"nine\",\"twenty-one\",\"four\",\"twenty-one\",\"eleven\",\"fifteen\",\"twenty\",\"eleven\",\"eleven\",\"eleven\",\"one\",\"twelve\",\"fourteen\",\"two\",\"four\",\"eleven\",\"sixteen\",\"seventeen\",\"twenty\",\"twenty-one\",\"twenty-four\",\"twenty-seven\",\"fifteen\",\"sixteen\",\"twenty-four\",\"seven\",\"twelve\",\"fourteen\",\"one\",\"twelve\",\"fifteen\",\"twenty\",\"one\",\"ten\",\"eleven\",\"twelve\",\"nine\",\"twenty\",\"ten\",\"twelve\",\"twelve\",\"fourteen\",\"fourteen\",\"thirty\",\"thirty\",\"twelve\",\"fourteen\",\"twenty\",\"twenty-four\",\"nine\",\"twenty\",\"twenty\",\"twenty-seven\",\"one\",\"twelve\",\"twelve\",\"sixteen\",\"two\",\"three\",\"ten\",\"twelve\",\"fourteen\",\"three\",\"four\",\"ten\",\"two\",\"thirty\",\"fifteen\",\"seventeen\",\"seventeen\",\"eleven\",\"eleven\",\"fifteen\",\"fifteen\",\"sixteen\",\"twenty-one\",\"three\",\"thirty\",\"nine\",\"eleven\",\"fourteen\",\"twenty-six\",\"twelve\",\"three\",\"three\",\"seven\",\"twelve\",\"fifteen\",\"twenty-seven\",\"seventeen\",\"twenty-four\",\"two\",\"three\",\"fifteen\",\"sixteen\",\"twenty-six\",\"one\",\"eleven\",\"twelve\",\"twenty\",\"twenty\",\"twenty-seven\",\"eleven\",\"eleven\",\"ten\",\"twelve\",\"twenty-three\",\"twenty-seven\",\"eleven\",\"fourteen\",\"two\",\"eleven\",\"eleven\",\"fourteen\",\"one\",\"nine\",\"sixteen\",\"sixteen\",\"seventeen\",\"twenty\",\"one\",\"twelve\",\"thirty\",\"two\",\"fifteen\",\"sixteen\",\"twenty\",\"twelve\",\"three\",\"twelve\",\"twelve\",\"eleven\",\"three\",\"three\",\"twelve\",\"twenty\",\"eleven\",\"twelve\",\"one\",\"ten\",\"twelve\",\"twenty-four\",\"twelve\",\"twenty-three\",\"eleven\",\"twelve\",\"seven\",\"seven\",\"seven\",\"twelve\",\"thirty\",\"two\",\"twenty-one\",\"fifteen\",\"three\",\"three\",\"three\",\"seven\",\"twelve\",\"twenty-seven\",\"eleven\",\"thirty\",\"twenty\",\"twenty\",\"twenty-one\",\"twelve\",\"two\",\"thirty\",\"sixteen\",\"twenty\",\"seven\",\"fifteen\",\"sixteen\",\"eleven\",\"ten\",\"eleven\",\"eleven\",\"one\",\"fourteen\",\"fourteen\",\"fourteen\",\"fourteen\",\"twelve\",\"fourteen\",\"seven\",\"seven\",\"seven\",\"seven\",\"thirteen\"],\"legendgroup\":\"\",\"marker\":{\"colors\":[\"#636efa\",\"#EF553B\",\"#00cc96\",\"#ab63fa\",\"#00cc96\",\"#ab63fa\",\"#ab63fa\",\"#ab63fa\",\"#FFA15A\",\"#ab63fa\",\"#EF553B\",\"#00cc96\",\"#EF553B\",\"#FFA15A\",\"#00cc96\",\"#EF553B\",\"#EF553B\",\"#EF553B\",\"#EF553B\",\"#ab63fa\",\"#ab63fa\",\"#ab63fa\",\"#EF553B\",\"#FFA15A\",\"#00cc96\",\"#00cc96\",\"#FFA15A\",\"#EF553B\",\"#00cc96\",\"#636efa\",\"#EF553B\",\"#FFA15A\",\"#FFA15A\",\"#00cc96\",\"#ab63fa\",\"#00cc96\",\"#00cc96\",\"#FFA15A\",\"#ab63fa\",\"#EF553B\",\"#00cc96\",\"#FFA15A\",\"#EF553B\",\"#ab63fa\",\"#ab63fa\",\"#19d3f3\",\"#636efa\",\"#EF553B\",\"#FFA15A\",\"#19d3f3\",\"#FFA15A\",\"#00cc96\",\"#636efa\",\"#ab63fa\",\"#636efa\",\"#ab63fa\",\"#19d3f3\",\"#ab63fa\",\"#00cc96\",\"#ab63fa\",\"#EF553B\",\"#FFA15A\",\"#EF553B\",\"#ab63fa\",\"#ab63fa\",\"#EF553B\",\"#ab63fa\",\"#00cc96\",\"#ab63fa\",\"#FFA15A\",\"#636efa\",\"#FFA15A\",\"#FFA15A\",\"#FFA15A\",\"#ab63fa\",\"#EF553B\",\"#FFA15A\",\"#EF553B\",\"#EF553B\",\"#ab63fa\",\"#ab63fa\",\"#FF6692\",\"#FFA15A\",\"#ab63fa\",\"#00cc96\",\"#ab63fa\",\"#ab63fa\",\"#00cc96\",\"#ab63fa\",\"#EF553B\",\"#ab63fa\",\"#19d3f3\",\"#ab63fa\",\"#00cc96\",\"#ab63fa\",\"#EF553B\",\"#ab63fa\",\"#ab63fa\",\"#FFA15A\",\"#FFA15A\",\"#FFA15A\",\"#ab63fa\",\"#00cc96\",\"#EF553B\",\"#ab63fa\",\"#00cc96\",\"#ab63fa\",\"#ab63fa\",\"#ab63fa\",\"#00cc96\",\"#19d3f3\",\"#00cc96\",\"#ab63fa\",\"#EF553B\",\"#ab63fa\",\"#636efa\",\"#ab63fa\",\"#EF553B\",\"#FF6692\",\"#EF553B\",\"#00cc96\",\"#FFA15A\",\"#ab63fa\",\"#FFA15A\",\"#ab63fa\",\"#ab63fa\",\"#EF553B\",\"#EF553B\",\"#00cc96\",\"#ab63fa\",\"#FFA15A\",\"#ab63fa\",\"#19d3f3\",\"#636efa\",\"#EF553B\",\"#EF553B\",\"#B6E880\",\"#ab63fa\",\"#FF6692\",\"#00cc96\",\"#00cc96\",\"#FFA15A\",\"#ab63fa\",\"#EF553B\",\"#FFA15A\",\"#00cc96\",\"#00cc96\",\"#EF553B\",\"#EF553B\",\"#19d3f3\",\"#636efa\",\"#FFA15A\",\"#00cc96\",\"#FFA15A\",\"#EF553B\",\"#00cc96\",\"#00cc96\",\"#00cc96\",\"#00cc96\",\"#ab63fa\",\"#00cc96\",\"#ab63fa\",\"#ab63fa\",\"#FFA15A\",\"#FFA15A\",\"#00cc96\",\"#ab63fa\",\"#00cc96\",\"#00cc96\",\"#FF97FF\",\"#ab63fa\",\"#ab63fa\",\"#EF553B\",\"#EF553B\",\"#00cc96\",\"#FFA15A\",\"#00cc96\",\"#FFA15A\",\"#636efa\",\"#EF553B\",\"#ab63fa\",\"#ab63fa\",\"#EF553B\",\"#EF553B\",\"#ab63fa\",\"#ab63fa\",\"#ab63fa\",\"#00cc96\",\"#ab63fa\",\"#00cc96\",\"#636efa\",\"#19d3f3\",\"#FFA15A\",\"#19d3f3\",\"#00cc96\",\"#EF553B\",\"#00cc96\",\"#EF553B\",\"#EF553B\",\"#EF553B\",\"#00cc96\",\"#EF553B\",\"#00cc96\",\"#FFA15A\",\"#EF553B\",\"#EF553B\",\"#EF553B\",\"#EF553B\",\"#00cc96\",\"#00cc96\",\"#ab63fa\",\"#FFA15A\",\"#EF553B\",\"#636efa\",\"#FFA15A\",\"#EF553B\",\"#ab63fa\",\"#EF553B\",\"#FFA15A\",\"#FFA15A\",\"#FFA15A\",\"#FFA15A\",\"#FF6692\",\"#00cc96\",\"#ab63fa\",\"#636efa\",\"#FFA15A\",\"#ab63fa\",\"#FFA15A\",\"#FFA15A\",\"#FFA15A\",\"#ab63fa\",\"#ab63fa\",\"#19d3f3\",\"#ab63fa\",\"#EF553B\",\"#636efa\",\"#FECB52\",\"#FECB52\",\"#EF553B\"]},\"name\":\"\",\"showlegend\":true,\"values\":[1,1,1,1,1,1,1,1,1,1,1,1,1,1,1,1,1,1,1,1,1,1,1,1,1,1,1,1,1,1,1,1,1,1,1,1,1,1,1,1,1,1,1,1,1,1,1,1,1,1,1,1,1,1,1,1,1,1,1,1,1,1,1,1,1,1,1,1,1,1,1,1,1,1,1,1,1,1,1,1,1,1,1,1,1,1,1,1,1,1,1,1,1,1,1,1,1,1,1,1,1,1,1,1,1,1,1,1,1,1,1,1,1,1,1,1,1,1,1,1,1,1,1,1,1,1,1,1,1,1,1,1,1,1,1,1,1,1,1,1,1,1,1,1,1,1,1,1,1,1,1,1,1,1,1,1,1,1,1,1,1,1,1,1,1,1,1,1,1,1,1,1,1,1,1,1,1,1,1,1,1,1,1,1,1,1,1,1,1,1,1,1,1,1,1,1,1,1,1,1,1,1,1,1,1,1,1,1,1,1,1,1,1,1,1,1,1,1,1,1,1,1,1,1,1,1,1,1,1,1,1,1,1,1,1,1,1,1,1,1],\"type\":\"pie\"}],                        {\"template\":{\"data\":{\"histogram2dcontour\":[{\"type\":\"histogram2dcontour\",\"colorbar\":{\"outlinewidth\":0,\"ticks\":\"\"},\"colorscale\":[[0.0,\"#0d0887\"],[0.1111111111111111,\"#46039f\"],[0.2222222222222222,\"#7201a8\"],[0.3333333333333333,\"#9c179e\"],[0.4444444444444444,\"#bd3786\"],[0.5555555555555556,\"#d8576b\"],[0.6666666666666666,\"#ed7953\"],[0.7777777777777778,\"#fb9f3a\"],[0.8888888888888888,\"#fdca26\"],[1.0,\"#f0f921\"]]}],\"choropleth\":[{\"type\":\"choropleth\",\"colorbar\":{\"outlinewidth\":0,\"ticks\":\"\"}}],\"histogram2d\":[{\"type\":\"histogram2d\",\"colorbar\":{\"outlinewidth\":0,\"ticks\":\"\"},\"colorscale\":[[0.0,\"#0d0887\"],[0.1111111111111111,\"#46039f\"],[0.2222222222222222,\"#7201a8\"],[0.3333333333333333,\"#9c179e\"],[0.4444444444444444,\"#bd3786\"],[0.5555555555555556,\"#d8576b\"],[0.6666666666666666,\"#ed7953\"],[0.7777777777777778,\"#fb9f3a\"],[0.8888888888888888,\"#fdca26\"],[1.0,\"#f0f921\"]]}],\"heatmap\":[{\"type\":\"heatmap\",\"colorbar\":{\"outlinewidth\":0,\"ticks\":\"\"},\"colorscale\":[[0.0,\"#0d0887\"],[0.1111111111111111,\"#46039f\"],[0.2222222222222222,\"#7201a8\"],[0.3333333333333333,\"#9c179e\"],[0.4444444444444444,\"#bd3786\"],[0.5555555555555556,\"#d8576b\"],[0.6666666666666666,\"#ed7953\"],[0.7777777777777778,\"#fb9f3a\"],[0.8888888888888888,\"#fdca26\"],[1.0,\"#f0f921\"]]}],\"heatmapgl\":[{\"type\":\"heatmapgl\",\"colorbar\":{\"outlinewidth\":0,\"ticks\":\"\"},\"colorscale\":[[0.0,\"#0d0887\"],[0.1111111111111111,\"#46039f\"],[0.2222222222222222,\"#7201a8\"],[0.3333333333333333,\"#9c179e\"],[0.4444444444444444,\"#bd3786\"],[0.5555555555555556,\"#d8576b\"],[0.6666666666666666,\"#ed7953\"],[0.7777777777777778,\"#fb9f3a\"],[0.8888888888888888,\"#fdca26\"],[1.0,\"#f0f921\"]]}],\"contourcarpet\":[{\"type\":\"contourcarpet\",\"colorbar\":{\"outlinewidth\":0,\"ticks\":\"\"}}],\"contour\":[{\"type\":\"contour\",\"colorbar\":{\"outlinewidth\":0,\"ticks\":\"\"},\"colorscale\":[[0.0,\"#0d0887\"],[0.1111111111111111,\"#46039f\"],[0.2222222222222222,\"#7201a8\"],[0.3333333333333333,\"#9c179e\"],[0.4444444444444444,\"#bd3786\"],[0.5555555555555556,\"#d8576b\"],[0.6666666666666666,\"#ed7953\"],[0.7777777777777778,\"#fb9f3a\"],[0.8888888888888888,\"#fdca26\"],[1.0,\"#f0f921\"]]}],\"surface\":[{\"type\":\"surface\",\"colorbar\":{\"outlinewidth\":0,\"ticks\":\"\"},\"colorscale\":[[0.0,\"#0d0887\"],[0.1111111111111111,\"#46039f\"],[0.2222222222222222,\"#7201a8\"],[0.3333333333333333,\"#9c179e\"],[0.4444444444444444,\"#bd3786\"],[0.5555555555555556,\"#d8576b\"],[0.6666666666666666,\"#ed7953\"],[0.7777777777777778,\"#fb9f3a\"],[0.8888888888888888,\"#fdca26\"],[1.0,\"#f0f921\"]]}],\"mesh3d\":[{\"type\":\"mesh3d\",\"colorbar\":{\"outlinewidth\":0,\"ticks\":\"\"}}],\"scatter\":[{\"fillpattern\":{\"fillmode\":\"overlay\",\"size\":10,\"solidity\":0.2},\"type\":\"scatter\"}],\"parcoords\":[{\"type\":\"parcoords\",\"line\":{\"colorbar\":{\"outlinewidth\":0,\"ticks\":\"\"}}}],\"scatterpolargl\":[{\"type\":\"scatterpolargl\",\"marker\":{\"colorbar\":{\"outlinewidth\":0,\"ticks\":\"\"}}}],\"bar\":[{\"error_x\":{\"color\":\"#2a3f5f\"},\"error_y\":{\"color\":\"#2a3f5f\"},\"marker\":{\"line\":{\"color\":\"#E5ECF6\",\"width\":0.5},\"pattern\":{\"fillmode\":\"overlay\",\"size\":10,\"solidity\":0.2}},\"type\":\"bar\"}],\"scattergeo\":[{\"type\":\"scattergeo\",\"marker\":{\"colorbar\":{\"outlinewidth\":0,\"ticks\":\"\"}}}],\"scatterpolar\":[{\"type\":\"scatterpolar\",\"marker\":{\"colorbar\":{\"outlinewidth\":0,\"ticks\":\"\"}}}],\"histogram\":[{\"marker\":{\"pattern\":{\"fillmode\":\"overlay\",\"size\":10,\"solidity\":0.2}},\"type\":\"histogram\"}],\"scattergl\":[{\"type\":\"scattergl\",\"marker\":{\"colorbar\":{\"outlinewidth\":0,\"ticks\":\"\"}}}],\"scatter3d\":[{\"type\":\"scatter3d\",\"line\":{\"colorbar\":{\"outlinewidth\":0,\"ticks\":\"\"}},\"marker\":{\"colorbar\":{\"outlinewidth\":0,\"ticks\":\"\"}}}],\"scattermapbox\":[{\"type\":\"scattermapbox\",\"marker\":{\"colorbar\":{\"outlinewidth\":0,\"ticks\":\"\"}}}],\"scatterternary\":[{\"type\":\"scatterternary\",\"marker\":{\"colorbar\":{\"outlinewidth\":0,\"ticks\":\"\"}}}],\"scattercarpet\":[{\"type\":\"scattercarpet\",\"marker\":{\"colorbar\":{\"outlinewidth\":0,\"ticks\":\"\"}}}],\"carpet\":[{\"aaxis\":{\"endlinecolor\":\"#2a3f5f\",\"gridcolor\":\"white\",\"linecolor\":\"white\",\"minorgridcolor\":\"white\",\"startlinecolor\":\"#2a3f5f\"},\"baxis\":{\"endlinecolor\":\"#2a3f5f\",\"gridcolor\":\"white\",\"linecolor\":\"white\",\"minorgridcolor\":\"white\",\"startlinecolor\":\"#2a3f5f\"},\"type\":\"carpet\"}],\"table\":[{\"cells\":{\"fill\":{\"color\":\"#EBF0F8\"},\"line\":{\"color\":\"white\"}},\"header\":{\"fill\":{\"color\":\"#C8D4E3\"},\"line\":{\"color\":\"white\"}},\"type\":\"table\"}],\"barpolar\":[{\"marker\":{\"line\":{\"color\":\"#E5ECF6\",\"width\":0.5},\"pattern\":{\"fillmode\":\"overlay\",\"size\":10,\"solidity\":0.2}},\"type\":\"barpolar\"}],\"pie\":[{\"automargin\":true,\"type\":\"pie\"}]},\"layout\":{\"autotypenumbers\":\"strict\",\"colorway\":[\"#636efa\",\"#EF553B\",\"#00cc96\",\"#ab63fa\",\"#FFA15A\",\"#19d3f3\",\"#FF6692\",\"#B6E880\",\"#FF97FF\",\"#FECB52\"],\"font\":{\"color\":\"#2a3f5f\"},\"hovermode\":\"closest\",\"hoverlabel\":{\"align\":\"left\"},\"paper_bgcolor\":\"white\",\"plot_bgcolor\":\"#E5ECF6\",\"polar\":{\"bgcolor\":\"#E5ECF6\",\"angularaxis\":{\"gridcolor\":\"white\",\"linecolor\":\"white\",\"ticks\":\"\"},\"radialaxis\":{\"gridcolor\":\"white\",\"linecolor\":\"white\",\"ticks\":\"\"}},\"ternary\":{\"bgcolor\":\"#E5ECF6\",\"aaxis\":{\"gridcolor\":\"white\",\"linecolor\":\"white\",\"ticks\":\"\"},\"baxis\":{\"gridcolor\":\"white\",\"linecolor\":\"white\",\"ticks\":\"\"},\"caxis\":{\"gridcolor\":\"white\",\"linecolor\":\"white\",\"ticks\":\"\"}},\"coloraxis\":{\"colorbar\":{\"outlinewidth\":0,\"ticks\":\"\"}},\"colorscale\":{\"sequential\":[[0.0,\"#0d0887\"],[0.1111111111111111,\"#46039f\"],[0.2222222222222222,\"#7201a8\"],[0.3333333333333333,\"#9c179e\"],[0.4444444444444444,\"#bd3786\"],[0.5555555555555556,\"#d8576b\"],[0.6666666666666666,\"#ed7953\"],[0.7777777777777778,\"#fb9f3a\"],[0.8888888888888888,\"#fdca26\"],[1.0,\"#f0f921\"]],\"sequentialminus\":[[0.0,\"#0d0887\"],[0.1111111111111111,\"#46039f\"],[0.2222222222222222,\"#7201a8\"],[0.3333333333333333,\"#9c179e\"],[0.4444444444444444,\"#bd3786\"],[0.5555555555555556,\"#d8576b\"],[0.6666666666666666,\"#ed7953\"],[0.7777777777777778,\"#fb9f3a\"],[0.8888888888888888,\"#fdca26\"],[1.0,\"#f0f921\"]],\"diverging\":[[0,\"#8e0152\"],[0.1,\"#c51b7d\"],[0.2,\"#de77ae\"],[0.3,\"#f1b6da\"],[0.4,\"#fde0ef\"],[0.5,\"#f7f7f7\"],[0.6,\"#e6f5d0\"],[0.7,\"#b8e186\"],[0.8,\"#7fbc41\"],[0.9,\"#4d9221\"],[1,\"#276419\"]]},\"xaxis\":{\"gridcolor\":\"white\",\"linecolor\":\"white\",\"ticks\":\"\",\"title\":{\"standoff\":15},\"zerolinecolor\":\"white\",\"automargin\":true,\"zerolinewidth\":2},\"yaxis\":{\"gridcolor\":\"white\",\"linecolor\":\"white\",\"ticks\":\"\",\"title\":{\"standoff\":15},\"zerolinecolor\":\"white\",\"automargin\":true,\"zerolinewidth\":2},\"scene\":{\"xaxis\":{\"backgroundcolor\":\"#E5ECF6\",\"gridcolor\":\"white\",\"linecolor\":\"white\",\"showbackground\":true,\"ticks\":\"\",\"zerolinecolor\":\"white\",\"gridwidth\":2},\"yaxis\":{\"backgroundcolor\":\"#E5ECF6\",\"gridcolor\":\"white\",\"linecolor\":\"white\",\"showbackground\":true,\"ticks\":\"\",\"zerolinecolor\":\"white\",\"gridwidth\":2},\"zaxis\":{\"backgroundcolor\":\"#E5ECF6\",\"gridcolor\":\"white\",\"linecolor\":\"white\",\"showbackground\":true,\"ticks\":\"\",\"zerolinecolor\":\"white\",\"gridwidth\":2}},\"shapedefaults\":{\"line\":{\"color\":\"#2a3f5f\"}},\"annotationdefaults\":{\"arrowcolor\":\"#2a3f5f\",\"arrowhead\":0,\"arrowwidth\":1},\"geo\":{\"bgcolor\":\"white\",\"landcolor\":\"#E5ECF6\",\"subunitcolor\":\"white\",\"showland\":true,\"showlakes\":true,\"lakecolor\":\"white\"},\"title\":{\"x\":0.05},\"mapbox\":{\"style\":\"light\"}}},\"legend\":{\"tracegroupgap\":0},\"margin\":{\"t\":60}},                        {\"responsive\": true}                    ).then(function(){\n",
              "                            \n",
              "var gd = document.getElementById('73e7a193-9672-486e-abf4-ecd482cfed11');\n",
              "var x = new MutationObserver(function (mutations, observer) {{\n",
              "        var display = window.getComputedStyle(gd).display;\n",
              "        if (!display || display === 'none') {{\n",
              "            console.log([gd, 'removed!']);\n",
              "            Plotly.purge(gd);\n",
              "            observer.disconnect();\n",
              "        }}\n",
              "}});\n",
              "\n",
              "// Listen for the removal of the full notebook cells\n",
              "var notebookContainer = gd.closest('#notebook-container');\n",
              "if (notebookContainer) {{\n",
              "    x.observe(notebookContainer, {childList: true});\n",
              "}}\n",
              "\n",
              "// Listen for the clearing of the current output cell\n",
              "var outputEl = gd.closest('.output');\n",
              "if (outputEl) {{\n",
              "    x.observe(outputEl, {childList: true});\n",
              "}}\n",
              "\n",
              "                        })                };                            </script>        </div>\n",
              "</body>\n",
              "</html>"
            ]
          },
          "metadata": {}
        }
      ]
    },
    {
      "cell_type": "code",
      "source": [
        "import pandas as pd\n",
        "import plotly\n",
        "import plotly.express as px\n",
        "import plotly.io as pio\n",
        "\n",
        "df = pd.read_csv(\"Caste.csv\")\n",
        "df = df[df['state_name']=='Maharashtra']\n",
        "df = df.groupby(['year','gender',],as_index=False)[['detenues','under_trial','convicts','others']].sum()\n",
        "print (df[:5])\n",
        "\n",
        "\n",
        "\n",
        "barchart = px.bar(\n",
        "    data_frame=df,\n",
        "    x=\"year\",\n",
        "    y=\"convicts\",\n",
        "    color=\"gender\",\n",
        "    opacity=0.9,\n",
        "    orientation=\"v\",\n",
        "    barmode='relative',\n",
        "labels={\"convicts\":\"Convicts in Maharashtra\",\n",
        "    \"gender\":\"Gender\"},\n",
        "    title='Indian Prison Statistics',\n",
        "    width=1400,\n",
        "    height=720,\n",
        "    template='gridon'\n",
        ")\n",
        "fig.write_html(\"bar.html\")\n",
        "\n",
        "pio.show(barchart)"
      ],
      "metadata": {
        "colab": {
          "base_uri": "https://localhost:8080/",
          "height": 861
        },
        "id": "TJinyGpQ6Cn8",
        "outputId": "5d5eec09-16a0-4654-8162-0b2118953bc7"
      },
      "execution_count": null,
      "outputs": [
        {
          "output_type": "stream",
          "name": "stdout",
          "text": [
            "   year  gender  detenues  under_trial  convicts  others\n",
            "0  2001  Female         1          583       279       0\n",
            "1  2001    Male       364        14863      6433       4\n",
            "2  2002  Female         8          648       311       0\n",
            "3  2002    Male       299        13869      6887       0\n",
            "4  2003  Female         1          728       390       0\n"
          ]
        },
        {
          "output_type": "display_data",
          "data": {
            "text/html": [
              "<html>\n",
              "<head><meta charset=\"utf-8\" /></head>\n",
              "<body>\n",
              "    <div>            <script src=\"https://cdnjs.cloudflare.com/ajax/libs/mathjax/2.7.5/MathJax.js?config=TeX-AMS-MML_SVG\"></script><script type=\"text/javascript\">if (window.MathJax && window.MathJax.Hub && window.MathJax.Hub.Config) {window.MathJax.Hub.Config({SVG: {font: \"STIX-Web\"}});}</script>                <script type=\"text/javascript\">window.PlotlyConfig = {MathJaxConfig: 'local'};</script>\n",
              "        <script charset=\"utf-8\" src=\"https://cdn.plot.ly/plotly-2.24.1.min.js\"></script>                <div id=\"6f948ec6-d32a-46be-8fd6-1feb43bdd1e6\" class=\"plotly-graph-div\" style=\"height:720px; width:1400px;\"></div>            <script type=\"text/javascript\">                                    window.PLOTLYENV=window.PLOTLYENV || {};                                    if (document.getElementById(\"6f948ec6-d32a-46be-8fd6-1feb43bdd1e6\")) {                    Plotly.newPlot(                        \"6f948ec6-d32a-46be-8fd6-1feb43bdd1e6\",                        [{\"alignmentgroup\":\"True\",\"hovertemplate\":\"Gender=Female\\u003cbr\\u003eyear=%{x}\\u003cbr\\u003eConvicts in Maharashtra=%{y}\\u003cextra\\u003e\\u003c\\u002fextra\\u003e\",\"legendgroup\":\"Female\",\"marker\":{\"color\":\"#1F77B4\",\"opacity\":0.9,\"pattern\":{\"shape\":\"\"}},\"name\":\"Female\",\"offsetgroup\":\"Female\",\"orientation\":\"v\",\"showlegend\":true,\"textposition\":\"auto\",\"x\":[2001,2002,2003,2004,2005,2006,2007,2008,2009,2010,2011,2012,2013],\"xaxis\":\"x\",\"y\":[279,311,390,484,463,449,511,499,529,449,461,457,437],\"yaxis\":\"y\",\"type\":\"bar\"},{\"alignmentgroup\":\"True\",\"hovertemplate\":\"Gender=Male\\u003cbr\\u003eyear=%{x}\\u003cbr\\u003eConvicts in Maharashtra=%{y}\\u003cextra\\u003e\\u003c\\u002fextra\\u003e\",\"legendgroup\":\"Male\",\"marker\":{\"color\":\"#FF7F0E\",\"opacity\":0.9,\"pattern\":{\"shape\":\"\"}},\"name\":\"Male\",\"offsetgroup\":\"Male\",\"orientation\":\"v\",\"showlegend\":true,\"textposition\":\"auto\",\"x\":[2001,2002,2003,2004,2005,2006,2007,2008,2009,2010,2011,2012,2013],\"xaxis\":\"x\",\"y\":[6433,6887,7825,8447,8766,8700,8692,8665,8093,7690,7491,7569,7604],\"yaxis\":\"y\",\"type\":\"bar\"}],                        {\"template\":{\"data\":{\"pie\":[{\"automargin\":true,\"type\":\"pie\"}]},\"layout\":{\"xaxis\":{\"showgrid\":true,\"title\":{\"standoff\":15}},\"yaxis\":{\"showgrid\":true,\"title\":{\"standoff\":15}}}},\"xaxis\":{\"anchor\":\"y\",\"domain\":[0.0,1.0],\"title\":{\"text\":\"year\"}},\"yaxis\":{\"anchor\":\"x\",\"domain\":[0.0,1.0],\"title\":{\"text\":\"Convicts in Maharashtra\"}},\"legend\":{\"title\":{\"text\":\"Gender\"},\"tracegroupgap\":0},\"title\":{\"text\":\"Indian Prison Statistics\"},\"barmode\":\"relative\",\"height\":720,\"width\":1400},                        {\"responsive\": true}                    ).then(function(){\n",
              "                            \n",
              "var gd = document.getElementById('6f948ec6-d32a-46be-8fd6-1feb43bdd1e6');\n",
              "var x = new MutationObserver(function (mutations, observer) {{\n",
              "        var display = window.getComputedStyle(gd).display;\n",
              "        if (!display || display === 'none') {{\n",
              "            console.log([gd, 'removed!']);\n",
              "            Plotly.purge(gd);\n",
              "            observer.disconnect();\n",
              "        }}\n",
              "}});\n",
              "\n",
              "// Listen for the removal of the full notebook cells\n",
              "var notebookContainer = gd.closest('#notebook-container');\n",
              "if (notebookContainer) {{\n",
              "    x.observe(notebookContainer, {childList: true});\n",
              "}}\n",
              "\n",
              "// Listen for the clearing of the current output cell\n",
              "var outputEl = gd.closest('.output');\n",
              "if (outputEl) {{\n",
              "    x.observe(outputEl, {childList: true});\n",
              "}}\n",
              "\n",
              "                        })                };                            </script>        </div>\n",
              "</body>\n",
              "</html>"
            ]
          },
          "metadata": {}
        }
      ]
    },
    {
      "cell_type": "code",
      "source": [
        "import plotly.express as px\n",
        "import pandas as pd\n",
        "import numpy as np\n",
        "\n",
        "df = pd.read_csv(\"MPVDataset.csv\")\n",
        "df[\"Victim's age\"] = pd.to_numeric(df[\"Victim's age\"], errors='coerce').fillna(0).astype(np.int64)\n",
        "df.rename(columns={'Fleeing (Source: WaPo)': 'Fleeing'}, inplace=True)\n",
        "\n",
        "df = df[df[\"State\"].isin(['NY', 'CA', 'TX'])]\n",
        "df = df[df[\"Victim's race\"].isin([\"White\", \"Black\", \"Hispanic\", \"Asian\"])]\n",
        "\n",
        "\n",
        "fig = px.sunburst(\n",
        "    data_frame=df,\n",
        "    path=[\"Unarmed\", 'State', \"Victim's race\"],  # Root, branches, leaves\n",
        "    color=\"Unarmed\",\n",
        "    color_discrete_sequence=px.colors.qualitative.Pastel,\n",
        "\n",
        ")\n",
        "\n",
        "fig.update_traces(textinfo='label+percent entry')\n",
        "fig.update_layout(margin=dict(t=0, l=0, r=0, b=0))\n",
        "fig.write_html(\"sunburst.html\")\n",
        "\n",
        "fig.show()"
      ],
      "metadata": {
        "colab": {
          "base_uri": "https://localhost:8080/",
          "height": 542
        },
        "id": "slCMnMqy_0wG",
        "outputId": "8b83b7ca-f0fe-4518-d7dd-97ec4d1b3cfa"
      },
      "execution_count": null,
      "outputs": [
        {
          "output_type": "display_data",
          "data": {
            "text/html": [
              "<html>\n",
              "<head><meta charset=\"utf-8\" /></head>\n",
              "<body>\n",
              "    <div>            <script src=\"https://cdnjs.cloudflare.com/ajax/libs/mathjax/2.7.5/MathJax.js?config=TeX-AMS-MML_SVG\"></script><script type=\"text/javascript\">if (window.MathJax && window.MathJax.Hub && window.MathJax.Hub.Config) {window.MathJax.Hub.Config({SVG: {font: \"STIX-Web\"}});}</script>                <script type=\"text/javascript\">window.PlotlyConfig = {MathJaxConfig: 'local'};</script>\n",
              "        <script charset=\"utf-8\" src=\"https://cdn.plot.ly/plotly-2.24.1.min.js\"></script>                <div id=\"a3074207-cdd4-4fbd-89d6-8f1e91c72115\" class=\"plotly-graph-div\" style=\"height:525px; width:100%;\"></div>            <script type=\"text/javascript\">                                    window.PLOTLYENV=window.PLOTLYENV || {};                                    if (document.getElementById(\"a3074207-cdd4-4fbd-89d6-8f1e91c72115\")) {                    Plotly.newPlot(                        \"a3074207-cdd4-4fbd-89d6-8f1e91c72115\",                        [{\"branchvalues\":\"total\",\"customdata\":[[\"Allegedly Armed\"],[\"Unclear\"],[\"Unarmed\"],[\"Vehicle\"],[\"Vehicle\"],[\"Unarmed\"],[\"Unclear\"],[\"Allegedly Armed\"],[\"Vehicle\"],[\"Unclear\"],[\"Unclear\"],[\"Unarmed\"],[\"Unclear\"],[\"Vehicle\"],[\"Allegedly Armed\"],[\"Unarmed\"],[\"Allegedly Armed\"],[\"Unarmed\"],[\"Unclear\"],[\"Unclear\"],[\"Vehicle\"],[\"Allegedly Armed\"],[\"Unarmed\"],[\"Unclear\"],[\"Allegedly Armed\"],[\"Vehicle\"],[\"Vehicle\"],[\"Vehicle\"],[\"Unarmed\"],[\"Unclear\"],[\"Unclear\"],[\"Allegedly Armed\"],[\"Allegedly Armed\"],[\"Vehicle\"],[\"Allegedly Armed\"],[\"Vehicle\"],[\"Unarmed\"],[\"Unarmed\"],[\"Unarmed\"],[\"Unarmed\"],[\"Allegedly Armed\"],[\"Unarmed\"],[\"Allegedly Armed\"],[\"Allegedly Armed\"],[\"Unclear\"],[\"Vehicle\"],[\"Vehicle\"],[\"Unclear\"],[\"Unarmed\"],[\"Unclear\"],[\"Allegedly Armed\"],[\"Allegedly Armed\"],[\"Unarmed\"],[\"Unclear\"],[\"Vehicle\"],[\"Allegedly Armed\"],[\"Allegedly Armed\"]],\"domain\":{\"x\":[0.0,1.0],\"y\":[0.0,1.0]},\"hovertemplate\":\"labels=%{label}\\u003cbr\\u003ecount=%{value}\\u003cbr\\u003eparent=%{parent}\\u003cbr\\u003eid=%{id}\\u003cbr\\u003eUnarmed=%{customdata[0]}\\u003cextra\\u003e\\u003c\\u002fextra\\u003e\",\"ids\":[\"Allegedly Armed\\u002fCA\\u002fAsian\",\"Unclear\\u002fNY\\u002fHispanic\",\"Unarmed\\u002fTX\\u002fHispanic\",\"Vehicle\\u002fTX\\u002fHispanic\",\"Vehicle\\u002fCA\\u002fWhite\",\"Unarmed\\u002fNY\\u002fWhite\",\"Unclear\\u002fNY\\u002fWhite\",\"Allegedly Armed\\u002fTX\\u002fWhite\",\"Vehicle\\u002fCA\\u002fHispanic\",\"Unclear\\u002fTX\\u002fWhite\",\"Unclear\\u002fCA\",\"Unarmed\\u002fNY\",\"Unclear\\u002fNY\",\"Vehicle\\u002fNY\",\"Allegedly Armed\\u002fTX\",\"Unarmed\\u002fTX\",\"Allegedly Armed\",\"Unarmed\\u002fCA\",\"Unclear\\u002fCA\\u002fHispanic\",\"Unclear\\u002fTX\\u002fHispanic\",\"Vehicle\",\"Allegedly Armed\\u002fNY\\u002fBlack\",\"Unarmed\\u002fNY\\u002fBlack\",\"Unclear\\u002fNY\\u002fBlack\",\"Allegedly Armed\\u002fCA\\u002fBlack\",\"Vehicle\\u002fCA\\u002fBlack\",\"Vehicle\\u002fTX\\u002fAsian\",\"Vehicle\\u002fNY\\u002fBlack\",\"Unarmed\\u002fTX\\u002fBlack\",\"Unclear\\u002fCA\\u002fAsian\",\"Unclear\\u002fTX\\u002fBlack\",\"Allegedly Armed\\u002fTX\\u002fBlack\",\"Allegedly Armed\\u002fCA\\u002fHispanic\",\"Vehicle\\u002fCA\\u002fAsian\",\"Allegedly Armed\\u002fNY\",\"Vehicle\\u002fCA\",\"Unarmed\\u002fCA\\u002fAsian\",\"Unarmed\\u002fCA\\u002fBlack\",\"Unarmed\",\"Unarmed\\u002fTX\\u002fWhite\",\"Allegedly Armed\\u002fNY\\u002fHispanic\",\"Unarmed\\u002fNY\\u002fHispanic\",\"Allegedly Armed\\u002fTX\\u002fHispanic\",\"Allegedly Armed\\u002fCA\\u002fWhite\",\"Unclear\",\"Vehicle\\u002fTX\\u002fWhite\",\"Vehicle\\u002fTX\",\"Unclear\\u002fCA\\u002fBlack\",\"Unarmed\\u002fCA\\u002fHispanic\",\"Unclear\\u002fCA\\u002fWhite\",\"Allegedly Armed\\u002fNY\\u002fWhite\",\"Allegedly Armed\\u002fCA\",\"Unarmed\\u002fCA\\u002fWhite\",\"Unclear\\u002fTX\",\"Vehicle\\u002fTX\\u002fBlack\",\"Allegedly Armed\\u002fTX\\u002fAsian\",\"Allegedly Armed\\u002fNY\\u002fAsian\"],\"labels\":[\"Asian\",\"Hispanic\",\"Hispanic\",\"Hispanic\",\"White\",\"White\",\"White\",\"White\",\"Hispanic\",\"White\",\"CA\",\"NY\",\"NY\",\"NY\",\"TX\",\"TX\",\"Allegedly Armed\",\"CA\",\"Hispanic\",\"Hispanic\",\"Vehicle\",\"Black\",\"Black\",\"Black\",\"Black\",\"Black\",\"Asian\",\"Black\",\"Black\",\"Asian\",\"Black\",\"Black\",\"Hispanic\",\"Asian\",\"NY\",\"CA\",\"Asian\",\"Black\",\"Unarmed\",\"White\",\"Hispanic\",\"Hispanic\",\"Hispanic\",\"White\",\"Unclear\",\"White\",\"TX\",\"Black\",\"Hispanic\",\"White\",\"White\",\"CA\",\"White\",\"TX\",\"Black\",\"Asian\",\"Asian\"],\"marker\":{\"colors\":[\"rgb(102, 197, 204)\",\"rgb(246, 207, 113)\",\"rgb(248, 156, 116)\",\"rgb(220, 176, 242)\",\"rgb(220, 176, 242)\",\"rgb(248, 156, 116)\",\"rgb(246, 207, 113)\",\"rgb(102, 197, 204)\",\"rgb(220, 176, 242)\",\"rgb(246, 207, 113)\",\"rgb(246, 207, 113)\",\"rgb(248, 156, 116)\",\"rgb(246, 207, 113)\",\"rgb(220, 176, 242)\",\"rgb(102, 197, 204)\",\"rgb(248, 156, 116)\",\"rgb(102, 197, 204)\",\"rgb(248, 156, 116)\",\"rgb(246, 207, 113)\",\"rgb(246, 207, 113)\",\"rgb(220, 176, 242)\",\"rgb(102, 197, 204)\",\"rgb(248, 156, 116)\",\"rgb(246, 207, 113)\",\"rgb(102, 197, 204)\",\"rgb(220, 176, 242)\",\"rgb(220, 176, 242)\",\"rgb(220, 176, 242)\",\"rgb(248, 156, 116)\",\"rgb(246, 207, 113)\",\"rgb(246, 207, 113)\",\"rgb(102, 197, 204)\",\"rgb(102, 197, 204)\",\"rgb(220, 176, 242)\",\"rgb(102, 197, 204)\",\"rgb(220, 176, 242)\",\"rgb(248, 156, 116)\",\"rgb(248, 156, 116)\",\"rgb(248, 156, 116)\",\"rgb(248, 156, 116)\",\"rgb(102, 197, 204)\",\"rgb(248, 156, 116)\",\"rgb(102, 197, 204)\",\"rgb(102, 197, 204)\",\"rgb(246, 207, 113)\",\"rgb(220, 176, 242)\",\"rgb(220, 176, 242)\",\"rgb(246, 207, 113)\",\"rgb(248, 156, 116)\",\"rgb(246, 207, 113)\",\"rgb(102, 197, 204)\",\"rgb(102, 197, 204)\",\"rgb(248, 156, 116)\",\"rgb(246, 207, 113)\",\"rgb(220, 176, 242)\",\"rgb(102, 197, 204)\",\"rgb(102, 197, 204)\"]},\"name\":\"\",\"parents\":[\"Allegedly Armed\\u002fCA\",\"Unclear\\u002fNY\",\"Unarmed\\u002fTX\",\"Vehicle\\u002fTX\",\"Vehicle\\u002fCA\",\"Unarmed\\u002fNY\",\"Unclear\\u002fNY\",\"Allegedly Armed\\u002fTX\",\"Vehicle\\u002fCA\",\"Unclear\\u002fTX\",\"Unclear\",\"Unarmed\",\"Unclear\",\"Vehicle\",\"Allegedly Armed\",\"Unarmed\",\"\",\"Unarmed\",\"Unclear\\u002fCA\",\"Unclear\\u002fTX\",\"\",\"Allegedly Armed\\u002fNY\",\"Unarmed\\u002fNY\",\"Unclear\\u002fNY\",\"Allegedly Armed\\u002fCA\",\"Vehicle\\u002fCA\",\"Vehicle\\u002fTX\",\"Vehicle\\u002fNY\",\"Unarmed\\u002fTX\",\"Unclear\\u002fCA\",\"Unclear\\u002fTX\",\"Allegedly Armed\\u002fTX\",\"Allegedly Armed\\u002fCA\",\"Vehicle\\u002fCA\",\"Allegedly Armed\",\"Vehicle\",\"Unarmed\\u002fCA\",\"Unarmed\\u002fCA\",\"\",\"Unarmed\\u002fTX\",\"Allegedly Armed\\u002fNY\",\"Unarmed\\u002fNY\",\"Allegedly Armed\\u002fTX\",\"Allegedly Armed\\u002fCA\",\"\",\"Vehicle\\u002fTX\",\"Vehicle\",\"Unclear\\u002fCA\",\"Unarmed\\u002fCA\",\"Unclear\\u002fCA\",\"Allegedly Armed\\u002fNY\",\"Allegedly Armed\",\"Unarmed\\u002fCA\",\"Unclear\",\"Vehicle\\u002fTX\",\"Allegedly Armed\\u002fTX\",\"Allegedly Armed\\u002fNY\"],\"values\":[34,1,29,10,19,11,1,194,30,18,114,34,7,2,460,102,1245,191,55,16,104,47,17,5,112,12,1,2,40,3,9,93,315,2,100,63,5,40,327,33,11,6,164,224,164,13,39,22,90,34,41,685,56,43,15,9,1],\"type\":\"sunburst\",\"textinfo\":\"label+percent entry\"}],                        {\"template\":{\"data\":{\"histogram2dcontour\":[{\"type\":\"histogram2dcontour\",\"colorbar\":{\"outlinewidth\":0,\"ticks\":\"\"},\"colorscale\":[[0.0,\"#0d0887\"],[0.1111111111111111,\"#46039f\"],[0.2222222222222222,\"#7201a8\"],[0.3333333333333333,\"#9c179e\"],[0.4444444444444444,\"#bd3786\"],[0.5555555555555556,\"#d8576b\"],[0.6666666666666666,\"#ed7953\"],[0.7777777777777778,\"#fb9f3a\"],[0.8888888888888888,\"#fdca26\"],[1.0,\"#f0f921\"]]}],\"choropleth\":[{\"type\":\"choropleth\",\"colorbar\":{\"outlinewidth\":0,\"ticks\":\"\"}}],\"histogram2d\":[{\"type\":\"histogram2d\",\"colorbar\":{\"outlinewidth\":0,\"ticks\":\"\"},\"colorscale\":[[0.0,\"#0d0887\"],[0.1111111111111111,\"#46039f\"],[0.2222222222222222,\"#7201a8\"],[0.3333333333333333,\"#9c179e\"],[0.4444444444444444,\"#bd3786\"],[0.5555555555555556,\"#d8576b\"],[0.6666666666666666,\"#ed7953\"],[0.7777777777777778,\"#fb9f3a\"],[0.8888888888888888,\"#fdca26\"],[1.0,\"#f0f921\"]]}],\"heatmap\":[{\"type\":\"heatmap\",\"colorbar\":{\"outlinewidth\":0,\"ticks\":\"\"},\"colorscale\":[[0.0,\"#0d0887\"],[0.1111111111111111,\"#46039f\"],[0.2222222222222222,\"#7201a8\"],[0.3333333333333333,\"#9c179e\"],[0.4444444444444444,\"#bd3786\"],[0.5555555555555556,\"#d8576b\"],[0.6666666666666666,\"#ed7953\"],[0.7777777777777778,\"#fb9f3a\"],[0.8888888888888888,\"#fdca26\"],[1.0,\"#f0f921\"]]}],\"heatmapgl\":[{\"type\":\"heatmapgl\",\"colorbar\":{\"outlinewidth\":0,\"ticks\":\"\"},\"colorscale\":[[0.0,\"#0d0887\"],[0.1111111111111111,\"#46039f\"],[0.2222222222222222,\"#7201a8\"],[0.3333333333333333,\"#9c179e\"],[0.4444444444444444,\"#bd3786\"],[0.5555555555555556,\"#d8576b\"],[0.6666666666666666,\"#ed7953\"],[0.7777777777777778,\"#fb9f3a\"],[0.8888888888888888,\"#fdca26\"],[1.0,\"#f0f921\"]]}],\"contourcarpet\":[{\"type\":\"contourcarpet\",\"colorbar\":{\"outlinewidth\":0,\"ticks\":\"\"}}],\"contour\":[{\"type\":\"contour\",\"colorbar\":{\"outlinewidth\":0,\"ticks\":\"\"},\"colorscale\":[[0.0,\"#0d0887\"],[0.1111111111111111,\"#46039f\"],[0.2222222222222222,\"#7201a8\"],[0.3333333333333333,\"#9c179e\"],[0.4444444444444444,\"#bd3786\"],[0.5555555555555556,\"#d8576b\"],[0.6666666666666666,\"#ed7953\"],[0.7777777777777778,\"#fb9f3a\"],[0.8888888888888888,\"#fdca26\"],[1.0,\"#f0f921\"]]}],\"surface\":[{\"type\":\"surface\",\"colorbar\":{\"outlinewidth\":0,\"ticks\":\"\"},\"colorscale\":[[0.0,\"#0d0887\"],[0.1111111111111111,\"#46039f\"],[0.2222222222222222,\"#7201a8\"],[0.3333333333333333,\"#9c179e\"],[0.4444444444444444,\"#bd3786\"],[0.5555555555555556,\"#d8576b\"],[0.6666666666666666,\"#ed7953\"],[0.7777777777777778,\"#fb9f3a\"],[0.8888888888888888,\"#fdca26\"],[1.0,\"#f0f921\"]]}],\"mesh3d\":[{\"type\":\"mesh3d\",\"colorbar\":{\"outlinewidth\":0,\"ticks\":\"\"}}],\"scatter\":[{\"fillpattern\":{\"fillmode\":\"overlay\",\"size\":10,\"solidity\":0.2},\"type\":\"scatter\"}],\"parcoords\":[{\"type\":\"parcoords\",\"line\":{\"colorbar\":{\"outlinewidth\":0,\"ticks\":\"\"}}}],\"scatterpolargl\":[{\"type\":\"scatterpolargl\",\"marker\":{\"colorbar\":{\"outlinewidth\":0,\"ticks\":\"\"}}}],\"bar\":[{\"error_x\":{\"color\":\"#2a3f5f\"},\"error_y\":{\"color\":\"#2a3f5f\"},\"marker\":{\"line\":{\"color\":\"#E5ECF6\",\"width\":0.5},\"pattern\":{\"fillmode\":\"overlay\",\"size\":10,\"solidity\":0.2}},\"type\":\"bar\"}],\"scattergeo\":[{\"type\":\"scattergeo\",\"marker\":{\"colorbar\":{\"outlinewidth\":0,\"ticks\":\"\"}}}],\"scatterpolar\":[{\"type\":\"scatterpolar\",\"marker\":{\"colorbar\":{\"outlinewidth\":0,\"ticks\":\"\"}}}],\"histogram\":[{\"marker\":{\"pattern\":{\"fillmode\":\"overlay\",\"size\":10,\"solidity\":0.2}},\"type\":\"histogram\"}],\"scattergl\":[{\"type\":\"scattergl\",\"marker\":{\"colorbar\":{\"outlinewidth\":0,\"ticks\":\"\"}}}],\"scatter3d\":[{\"type\":\"scatter3d\",\"line\":{\"colorbar\":{\"outlinewidth\":0,\"ticks\":\"\"}},\"marker\":{\"colorbar\":{\"outlinewidth\":0,\"ticks\":\"\"}}}],\"scattermapbox\":[{\"type\":\"scattermapbox\",\"marker\":{\"colorbar\":{\"outlinewidth\":0,\"ticks\":\"\"}}}],\"scatterternary\":[{\"type\":\"scatterternary\",\"marker\":{\"colorbar\":{\"outlinewidth\":0,\"ticks\":\"\"}}}],\"scattercarpet\":[{\"type\":\"scattercarpet\",\"marker\":{\"colorbar\":{\"outlinewidth\":0,\"ticks\":\"\"}}}],\"carpet\":[{\"aaxis\":{\"endlinecolor\":\"#2a3f5f\",\"gridcolor\":\"white\",\"linecolor\":\"white\",\"minorgridcolor\":\"white\",\"startlinecolor\":\"#2a3f5f\"},\"baxis\":{\"endlinecolor\":\"#2a3f5f\",\"gridcolor\":\"white\",\"linecolor\":\"white\",\"minorgridcolor\":\"white\",\"startlinecolor\":\"#2a3f5f\"},\"type\":\"carpet\"}],\"table\":[{\"cells\":{\"fill\":{\"color\":\"#EBF0F8\"},\"line\":{\"color\":\"white\"}},\"header\":{\"fill\":{\"color\":\"#C8D4E3\"},\"line\":{\"color\":\"white\"}},\"type\":\"table\"}],\"barpolar\":[{\"marker\":{\"line\":{\"color\":\"#E5ECF6\",\"width\":0.5},\"pattern\":{\"fillmode\":\"overlay\",\"size\":10,\"solidity\":0.2}},\"type\":\"barpolar\"}],\"pie\":[{\"automargin\":true,\"type\":\"pie\"}]},\"layout\":{\"autotypenumbers\":\"strict\",\"colorway\":[\"#636efa\",\"#EF553B\",\"#00cc96\",\"#ab63fa\",\"#FFA15A\",\"#19d3f3\",\"#FF6692\",\"#B6E880\",\"#FF97FF\",\"#FECB52\"],\"font\":{\"color\":\"#2a3f5f\"},\"hovermode\":\"closest\",\"hoverlabel\":{\"align\":\"left\"},\"paper_bgcolor\":\"white\",\"plot_bgcolor\":\"#E5ECF6\",\"polar\":{\"bgcolor\":\"#E5ECF6\",\"angularaxis\":{\"gridcolor\":\"white\",\"linecolor\":\"white\",\"ticks\":\"\"},\"radialaxis\":{\"gridcolor\":\"white\",\"linecolor\":\"white\",\"ticks\":\"\"}},\"ternary\":{\"bgcolor\":\"#E5ECF6\",\"aaxis\":{\"gridcolor\":\"white\",\"linecolor\":\"white\",\"ticks\":\"\"},\"baxis\":{\"gridcolor\":\"white\",\"linecolor\":\"white\",\"ticks\":\"\"},\"caxis\":{\"gridcolor\":\"white\",\"linecolor\":\"white\",\"ticks\":\"\"}},\"coloraxis\":{\"colorbar\":{\"outlinewidth\":0,\"ticks\":\"\"}},\"colorscale\":{\"sequential\":[[0.0,\"#0d0887\"],[0.1111111111111111,\"#46039f\"],[0.2222222222222222,\"#7201a8\"],[0.3333333333333333,\"#9c179e\"],[0.4444444444444444,\"#bd3786\"],[0.5555555555555556,\"#d8576b\"],[0.6666666666666666,\"#ed7953\"],[0.7777777777777778,\"#fb9f3a\"],[0.8888888888888888,\"#fdca26\"],[1.0,\"#f0f921\"]],\"sequentialminus\":[[0.0,\"#0d0887\"],[0.1111111111111111,\"#46039f\"],[0.2222222222222222,\"#7201a8\"],[0.3333333333333333,\"#9c179e\"],[0.4444444444444444,\"#bd3786\"],[0.5555555555555556,\"#d8576b\"],[0.6666666666666666,\"#ed7953\"],[0.7777777777777778,\"#fb9f3a\"],[0.8888888888888888,\"#fdca26\"],[1.0,\"#f0f921\"]],\"diverging\":[[0,\"#8e0152\"],[0.1,\"#c51b7d\"],[0.2,\"#de77ae\"],[0.3,\"#f1b6da\"],[0.4,\"#fde0ef\"],[0.5,\"#f7f7f7\"],[0.6,\"#e6f5d0\"],[0.7,\"#b8e186\"],[0.8,\"#7fbc41\"],[0.9,\"#4d9221\"],[1,\"#276419\"]]},\"xaxis\":{\"gridcolor\":\"white\",\"linecolor\":\"white\",\"ticks\":\"\",\"title\":{\"standoff\":15},\"zerolinecolor\":\"white\",\"automargin\":true,\"zerolinewidth\":2},\"yaxis\":{\"gridcolor\":\"white\",\"linecolor\":\"white\",\"ticks\":\"\",\"title\":{\"standoff\":15},\"zerolinecolor\":\"white\",\"automargin\":true,\"zerolinewidth\":2},\"scene\":{\"xaxis\":{\"backgroundcolor\":\"#E5ECF6\",\"gridcolor\":\"white\",\"linecolor\":\"white\",\"showbackground\":true,\"ticks\":\"\",\"zerolinecolor\":\"white\",\"gridwidth\":2},\"yaxis\":{\"backgroundcolor\":\"#E5ECF6\",\"gridcolor\":\"white\",\"linecolor\":\"white\",\"showbackground\":true,\"ticks\":\"\",\"zerolinecolor\":\"white\",\"gridwidth\":2},\"zaxis\":{\"backgroundcolor\":\"#E5ECF6\",\"gridcolor\":\"white\",\"linecolor\":\"white\",\"showbackground\":true,\"ticks\":\"\",\"zerolinecolor\":\"white\",\"gridwidth\":2}},\"shapedefaults\":{\"line\":{\"color\":\"#2a3f5f\"}},\"annotationdefaults\":{\"arrowcolor\":\"#2a3f5f\",\"arrowhead\":0,\"arrowwidth\":1},\"geo\":{\"bgcolor\":\"white\",\"landcolor\":\"#E5ECF6\",\"subunitcolor\":\"white\",\"showland\":true,\"showlakes\":true,\"lakecolor\":\"white\"},\"title\":{\"x\":0.05},\"mapbox\":{\"style\":\"light\"}}},\"legend\":{\"tracegroupgap\":0},\"margin\":{\"t\":0,\"l\":0,\"r\":0,\"b\":0},\"sunburstcolorway\":[\"rgb(102, 197, 204)\",\"rgb(246, 207, 113)\",\"rgb(248, 156, 116)\",\"rgb(220, 176, 242)\",\"rgb(135, 197, 95)\",\"rgb(158, 185, 243)\",\"rgb(254, 136, 177)\",\"rgb(201, 219, 116)\",\"rgb(139, 224, 164)\",\"rgb(180, 151, 231)\",\"rgb(179, 179, 179)\"]},                        {\"responsive\": true}                    ).then(function(){\n",
              "                            \n",
              "var gd = document.getElementById('a3074207-cdd4-4fbd-89d6-8f1e91c72115');\n",
              "var x = new MutationObserver(function (mutations, observer) {{\n",
              "        var display = window.getComputedStyle(gd).display;\n",
              "        if (!display || display === 'none') {{\n",
              "            console.log([gd, 'removed!']);\n",
              "            Plotly.purge(gd);\n",
              "            observer.disconnect();\n",
              "        }}\n",
              "}});\n",
              "\n",
              "// Listen for the removal of the full notebook cells\n",
              "var notebookContainer = gd.closest('#notebook-container');\n",
              "if (notebookContainer) {{\n",
              "    x.observe(notebookContainer, {childList: true});\n",
              "}}\n",
              "\n",
              "// Listen for the clearing of the current output cell\n",
              "var outputEl = gd.closest('.output');\n",
              "if (outputEl) {{\n",
              "    x.observe(outputEl, {childList: true});\n",
              "}}\n",
              "\n",
              "                        })                };                            </script>        </div>\n",
              "</body>\n",
              "</html>"
            ]
          },
          "metadata": {}
        }
      ]
    },
    {
      "cell_type": "code",
      "source": [
        "import pandas as pd  # (version 1.0.0)\n",
        "import plotly.express as px  # (version 4.7.0)\n",
        "import plotly.io as pio\n",
        "import numpy as np\n",
        "import plotly.graph_objects as go\n",
        "\n",
        "# Use for animation rotation at the end\n",
        "x_eye = -1.25\n",
        "y_eye = 2\n",
        "z_eye = 0.5\n",
        "\n",
        "df = pd.read_csv('female_labour_cleaned.csv')\n",
        "#df = df[df['Year'].isin(['2010'])]\n",
        "df = df[df['Continent'].isin(['Africa', 'Europe'])]\n",
        "\n",
        "df = df[df['Year'].isin(['1990','1995','2000','2005','2010'])]\n",
        "df['resized_pop'] = df['population'] / 100000000  # use for size parameter\n",
        "\n",
        "fig = px.scatter_3d(\n",
        "    data_frame=df,\n",
        "    x='GDP per capita',\n",
        "    y='% Econ. active',\n",
        "    z='Years in school (avg)',\n",
        "    color=\"Continent\",\n",
        "    color_discrete_sequence=['magenta', 'green'],\n",
        "\n",
        "    log_x=True,\n",
        "\n",
        "    template='ggplot2',\n",
        "\n",
        "    title='Female Labor Force Participation Analysis',\n",
        "    labels={'Years in school (avg)': 'Years Women are in School'},\n",
        "    # hover_data={'Continent': False, 'GDP per capita': ':.1f'},\n",
        "    hover_name='Entity',\n",
        "    height=700,\n",
        "\n",
        "    animation_frame='Year',\n",
        "    range_x=[500,100000],\n",
        "    range_z=[0,14],\n",
        "    range_y=[5,100]\n",
        "\n",
        ")\n",
        "\n",
        "\n",
        "fig.write_html(\"My3dPlot.html\")\n",
        "pio.show(fig)\n",
        "\n"
      ],
      "metadata": {
        "colab": {
          "base_uri": "https://localhost:8080/",
          "height": 717
        },
        "id": "j0TlmKu1_144",
        "outputId": "66f8c5b2-0390-4ff4-847f-d20bf03df381"
      },
      "execution_count": null,
      "outputs": [
        {
          "output_type": "display_data",
          "data": {
            "text/html": [
              "<html>\n",
              "<head><meta charset=\"utf-8\" /></head>\n",
              "<body>\n",
              "    <div>            <script src=\"https://cdnjs.cloudflare.com/ajax/libs/mathjax/2.7.5/MathJax.js?config=TeX-AMS-MML_SVG\"></script><script type=\"text/javascript\">if (window.MathJax && window.MathJax.Hub && window.MathJax.Hub.Config) {window.MathJax.Hub.Config({SVG: {font: \"STIX-Web\"}});}</script>                <script type=\"text/javascript\">window.PlotlyConfig = {MathJaxConfig: 'local'};</script>\n",
              "        <script charset=\"utf-8\" src=\"https://cdn.plot.ly/plotly-2.24.1.min.js\"></script>                <div id=\"ed4c32e4-76cb-4ba5-aa71-b5b65c7a59e3\" class=\"plotly-graph-div\" style=\"height:700px; width:100%;\"></div>            <script type=\"text/javascript\">                                    window.PLOTLYENV=window.PLOTLYENV || {};                                    if (document.getElementById(\"ed4c32e4-76cb-4ba5-aa71-b5b65c7a59e3\")) {                    Plotly.newPlot(                        \"ed4c32e4-76cb-4ba5-aa71-b5b65c7a59e3\",                        [{\"hovertemplate\":\"\\u003cb\\u003e%{hovertext}\\u003c\\u002fb\\u003e\\u003cbr\\u003e\\u003cbr\\u003eContinent=Europe\\u003cbr\\u003eYear=1990\\u003cbr\\u003eGDP per capita=%{x}\\u003cbr\\u003e% Econ. active=%{y}\\u003cbr\\u003eYears Women are in School=%{z}\\u003cextra\\u003e\\u003c\\u002fextra\\u003e\",\"hovertext\":[\"Albania\",\"Austria\",\"Belgium\",\"Bulgaria\",\"Denmark\",\"Finland\",\"France\",\"Germany\",\"Greece\",\"Hungary\",\"Iceland\",\"Italy\",\"Luxembourg\",\"Malta\",\"Netherlands\",\"Norway\",\"Poland\",\"Portugal\",\"Romania\",\"San Marino\",\"Spain\",\"Sweden\",\"Switzerland\",\"United Kingdom\"],\"legendgroup\":\"Europe\",\"marker\":{\"color\":\"magenta\",\"symbol\":\"circle\"},\"mode\":\"markers\",\"name\":\"Europe\",\"scene\":\"scene\",\"showlegend\":true,\"x\":[4722.838166,31341.90238,30647.82135,9296.952206,33785.65014,28905.57032,29514.853810000004,31287.06981,20686.13676,null,null,31141.90286,57618.0207,16176.49077,32090.21105,42813.76496,10276.57333,20166.92799,11422.46995,null,23758.7281,30933.63273,48181.75578,26827.84226],\"y\":[53.59000015,43.43299866,36.55799866,54.44499969,61.05099869,58.97600174,46.32799911,45.22700119,36.05899811,47.01699829,67.64199829,35.30199814,34.12099838,27.9279995,43.04899979,55.21300125,53.87400055,48.35900116,62.07600021,null,33.84000015,63.13600159,57.02299881,51.99300003],\"z\":[8.483493,8.00415,10.55961,9.296712,11.3936,9.170885,8.787752000000001,8.626876,10.02799,9.94243,9.834145,8.940700999999999,9.115874,9.774269,10.63524,10.96601,10.09329,7.527503,10.24098,null,7.957942999999999,11.56815,9.942136,9.564902],\"type\":\"scatter3d\"},{\"hovertemplate\":\"\\u003cb\\u003e%{hovertext}\\u003c\\u002fb\\u003e\\u003cbr\\u003e\\u003cbr\\u003eContinent=Africa\\u003cbr\\u003eYear=1990\\u003cbr\\u003eGDP per capita=%{x}\\u003cbr\\u003e% Econ. active=%{y}\\u003cbr\\u003eYears Women are in School=%{z}\\u003cextra\\u003e\\u003c\\u002fextra\\u003e\",\"hovertext\":[\"Algeria\",\"Angola\",\"Benin\",\"Burkina Faso\",\"Chad\",\"Comoros\",\"Congo\",\"Cote d'Ivoire\",\"Egypt\",\"Eritrea\",\"Ethiopia\",\"Gambia\",\"Ghana\",\"Guinea\",\"Kenya\",\"Liberia\",\"Libya\",\"Mauritania\",\"Morocco\",\"Niger\",\"Nigeria\",\"Rwanda\",\"Sudan\",\"Swaziland\",\"Tanzania\",\"Togo\",\"Tunisia\",\"Uganda\"],\"legendgroup\":\"Africa\",\"marker\":{\"color\":\"green\",\"symbol\":\"circle\"},\"mode\":\"markers\",\"name\":\"Africa\",\"scene\":\"scene\",\"showlegend\":true,\"x\":[10236.84066,3430.798427,1462.677421,844.3421676,1110.4379800000002,1599.95155,5140.4161460000005,3193.758531,5909.161575,null,651.9530906,1506.404687,1919.601511,1411.9489210000002,2380.495384,875.1895802000001,null,2806.73383,3912.005724,894.5407505000001,3041.509363,872.5285226,1743.4460390000002,5378.167768,1472.58375,1350.133276,5614.938383,769.4524841],\"y\":[11.49600029,75.15100098,57.34899902,76.21800232,64.89499664,31.55699921,65.76300049,48.52799988,21.3409996,75.22399902,66.49400329999999,44.97800064,72.41799927,63.0320015,70.32499695,52.80099869,20.00699997,29.95000076,24.08300018,68.13300323,47.57699966,86.77500153,23.44799995,37.64099884,82.10099792,80.84300232,22.50300026,62.46900177],\"z\":[3.588133,null,1.330599,null,null,null,4.8055010000000005,1.6184120000000002,3.469171,null,null,1.133028,4.6187,null,3.734478,1.614228,4.490730999999999,2.056543,2.174845,0.4768059,null,1.808815,1.630814,5.634875,3.5471220000000003,2.567736,3.593658,2.740765],\"type\":\"scatter3d\"}],                        {\"template\":{\"data\":{\"barpolar\":[{\"marker\":{\"line\":{\"color\":\"rgb(237,237,237)\",\"width\":0.5},\"pattern\":{\"fillmode\":\"overlay\",\"size\":10,\"solidity\":0.2}},\"type\":\"barpolar\"}],\"bar\":[{\"error_x\":{\"color\":\"rgb(51,51,51)\"},\"error_y\":{\"color\":\"rgb(51,51,51)\"},\"marker\":{\"line\":{\"color\":\"rgb(237,237,237)\",\"width\":0.5},\"pattern\":{\"fillmode\":\"overlay\",\"size\":10,\"solidity\":0.2}},\"type\":\"bar\"}],\"carpet\":[{\"aaxis\":{\"endlinecolor\":\"rgb(51,51,51)\",\"gridcolor\":\"white\",\"linecolor\":\"white\",\"minorgridcolor\":\"white\",\"startlinecolor\":\"rgb(51,51,51)\"},\"baxis\":{\"endlinecolor\":\"rgb(51,51,51)\",\"gridcolor\":\"white\",\"linecolor\":\"white\",\"minorgridcolor\":\"white\",\"startlinecolor\":\"rgb(51,51,51)\"},\"type\":\"carpet\"}],\"choropleth\":[{\"colorbar\":{\"outlinewidth\":0,\"tickcolor\":\"rgb(237,237,237)\",\"ticklen\":6,\"ticks\":\"inside\"},\"type\":\"choropleth\"}],\"contourcarpet\":[{\"colorbar\":{\"outlinewidth\":0,\"tickcolor\":\"rgb(237,237,237)\",\"ticklen\":6,\"ticks\":\"inside\"},\"type\":\"contourcarpet\"}],\"contour\":[{\"colorbar\":{\"outlinewidth\":0,\"tickcolor\":\"rgb(237,237,237)\",\"ticklen\":6,\"ticks\":\"inside\"},\"colorscale\":[[0,\"rgb(20,44,66)\"],[1,\"rgb(90,179,244)\"]],\"type\":\"contour\"}],\"heatmapgl\":[{\"colorbar\":{\"outlinewidth\":0,\"tickcolor\":\"rgb(237,237,237)\",\"ticklen\":6,\"ticks\":\"inside\"},\"colorscale\":[[0,\"rgb(20,44,66)\"],[1,\"rgb(90,179,244)\"]],\"type\":\"heatmapgl\"}],\"heatmap\":[{\"colorbar\":{\"outlinewidth\":0,\"tickcolor\":\"rgb(237,237,237)\",\"ticklen\":6,\"ticks\":\"inside\"},\"colorscale\":[[0,\"rgb(20,44,66)\"],[1,\"rgb(90,179,244)\"]],\"type\":\"heatmap\"}],\"histogram2dcontour\":[{\"colorbar\":{\"outlinewidth\":0,\"tickcolor\":\"rgb(237,237,237)\",\"ticklen\":6,\"ticks\":\"inside\"},\"colorscale\":[[0,\"rgb(20,44,66)\"],[1,\"rgb(90,179,244)\"]],\"type\":\"histogram2dcontour\"}],\"histogram2d\":[{\"colorbar\":{\"outlinewidth\":0,\"tickcolor\":\"rgb(237,237,237)\",\"ticklen\":6,\"ticks\":\"inside\"},\"colorscale\":[[0,\"rgb(20,44,66)\"],[1,\"rgb(90,179,244)\"]],\"type\":\"histogram2d\"}],\"histogram\":[{\"marker\":{\"pattern\":{\"fillmode\":\"overlay\",\"size\":10,\"solidity\":0.2}},\"type\":\"histogram\"}],\"mesh3d\":[{\"colorbar\":{\"outlinewidth\":0,\"tickcolor\":\"rgb(237,237,237)\",\"ticklen\":6,\"ticks\":\"inside\"},\"type\":\"mesh3d\"}],\"parcoords\":[{\"line\":{\"colorbar\":{\"outlinewidth\":0,\"tickcolor\":\"rgb(237,237,237)\",\"ticklen\":6,\"ticks\":\"inside\"}},\"type\":\"parcoords\"}],\"pie\":[{\"automargin\":true,\"type\":\"pie\"}],\"scatter3d\":[{\"line\":{\"colorbar\":{\"outlinewidth\":0,\"tickcolor\":\"rgb(237,237,237)\",\"ticklen\":6,\"ticks\":\"inside\"}},\"marker\":{\"colorbar\":{\"outlinewidth\":0,\"tickcolor\":\"rgb(237,237,237)\",\"ticklen\":6,\"ticks\":\"inside\"}},\"type\":\"scatter3d\"}],\"scattercarpet\":[{\"marker\":{\"colorbar\":{\"outlinewidth\":0,\"tickcolor\":\"rgb(237,237,237)\",\"ticklen\":6,\"ticks\":\"inside\"}},\"type\":\"scattercarpet\"}],\"scattergeo\":[{\"marker\":{\"colorbar\":{\"outlinewidth\":0,\"tickcolor\":\"rgb(237,237,237)\",\"ticklen\":6,\"ticks\":\"inside\"}},\"type\":\"scattergeo\"}],\"scattergl\":[{\"marker\":{\"colorbar\":{\"outlinewidth\":0,\"tickcolor\":\"rgb(237,237,237)\",\"ticklen\":6,\"ticks\":\"inside\"}},\"type\":\"scattergl\"}],\"scattermapbox\":[{\"marker\":{\"colorbar\":{\"outlinewidth\":0,\"tickcolor\":\"rgb(237,237,237)\",\"ticklen\":6,\"ticks\":\"inside\"}},\"type\":\"scattermapbox\"}],\"scatterpolargl\":[{\"marker\":{\"colorbar\":{\"outlinewidth\":0,\"tickcolor\":\"rgb(237,237,237)\",\"ticklen\":6,\"ticks\":\"inside\"}},\"type\":\"scatterpolargl\"}],\"scatterpolar\":[{\"marker\":{\"colorbar\":{\"outlinewidth\":0,\"tickcolor\":\"rgb(237,237,237)\",\"ticklen\":6,\"ticks\":\"inside\"}},\"type\":\"scatterpolar\"}],\"scatter\":[{\"fillpattern\":{\"fillmode\":\"overlay\",\"size\":10,\"solidity\":0.2},\"type\":\"scatter\"}],\"scatterternary\":[{\"marker\":{\"colorbar\":{\"outlinewidth\":0,\"tickcolor\":\"rgb(237,237,237)\",\"ticklen\":6,\"ticks\":\"inside\"}},\"type\":\"scatterternary\"}],\"surface\":[{\"colorbar\":{\"outlinewidth\":0,\"tickcolor\":\"rgb(237,237,237)\",\"ticklen\":6,\"ticks\":\"inside\"},\"colorscale\":[[0,\"rgb(20,44,66)\"],[1,\"rgb(90,179,244)\"]],\"type\":\"surface\"}],\"table\":[{\"cells\":{\"fill\":{\"color\":\"rgb(237,237,237)\"},\"line\":{\"color\":\"white\"}},\"header\":{\"fill\":{\"color\":\"rgb(217,217,217)\"},\"line\":{\"color\":\"white\"}},\"type\":\"table\"}]},\"layout\":{\"annotationdefaults\":{\"arrowhead\":0,\"arrowwidth\":1},\"autotypenumbers\":\"strict\",\"coloraxis\":{\"colorbar\":{\"outlinewidth\":0,\"tickcolor\":\"rgb(237,237,237)\",\"ticklen\":6,\"ticks\":\"inside\"}},\"colorscale\":{\"sequential\":[[0,\"rgb(20,44,66)\"],[1,\"rgb(90,179,244)\"]],\"sequentialminus\":[[0,\"rgb(20,44,66)\"],[1,\"rgb(90,179,244)\"]]},\"colorway\":[\"#F8766D\",\"#A3A500\",\"#00BF7D\",\"#00B0F6\",\"#E76BF3\"],\"font\":{\"color\":\"rgb(51,51,51)\"},\"geo\":{\"bgcolor\":\"white\",\"lakecolor\":\"white\",\"landcolor\":\"rgb(237,237,237)\",\"showlakes\":true,\"showland\":true,\"subunitcolor\":\"white\"},\"hoverlabel\":{\"align\":\"left\"},\"hovermode\":\"closest\",\"paper_bgcolor\":\"white\",\"plot_bgcolor\":\"rgb(237,237,237)\",\"polar\":{\"angularaxis\":{\"gridcolor\":\"white\",\"linecolor\":\"white\",\"showgrid\":true,\"tickcolor\":\"rgb(51,51,51)\",\"ticks\":\"outside\"},\"bgcolor\":\"rgb(237,237,237)\",\"radialaxis\":{\"gridcolor\":\"white\",\"linecolor\":\"white\",\"showgrid\":true,\"tickcolor\":\"rgb(51,51,51)\",\"ticks\":\"outside\"}},\"scene\":{\"xaxis\":{\"backgroundcolor\":\"rgb(237,237,237)\",\"gridcolor\":\"white\",\"gridwidth\":2,\"linecolor\":\"white\",\"showbackground\":true,\"showgrid\":true,\"tickcolor\":\"rgb(51,51,51)\",\"ticks\":\"outside\",\"zerolinecolor\":\"white\"},\"yaxis\":{\"backgroundcolor\":\"rgb(237,237,237)\",\"gridcolor\":\"white\",\"gridwidth\":2,\"linecolor\":\"white\",\"showbackground\":true,\"showgrid\":true,\"tickcolor\":\"rgb(51,51,51)\",\"ticks\":\"outside\",\"zerolinecolor\":\"white\"},\"zaxis\":{\"backgroundcolor\":\"rgb(237,237,237)\",\"gridcolor\":\"white\",\"gridwidth\":2,\"linecolor\":\"white\",\"showbackground\":true,\"showgrid\":true,\"tickcolor\":\"rgb(51,51,51)\",\"ticks\":\"outside\",\"zerolinecolor\":\"white\"}},\"shapedefaults\":{\"fillcolor\":\"black\",\"line\":{\"width\":0},\"opacity\":0.3},\"ternary\":{\"aaxis\":{\"gridcolor\":\"white\",\"linecolor\":\"white\",\"showgrid\":true,\"tickcolor\":\"rgb(51,51,51)\",\"ticks\":\"outside\"},\"baxis\":{\"gridcolor\":\"white\",\"linecolor\":\"white\",\"showgrid\":true,\"tickcolor\":\"rgb(51,51,51)\",\"ticks\":\"outside\"},\"bgcolor\":\"rgb(237,237,237)\",\"caxis\":{\"gridcolor\":\"white\",\"linecolor\":\"white\",\"showgrid\":true,\"tickcolor\":\"rgb(51,51,51)\",\"ticks\":\"outside\"}},\"xaxis\":{\"automargin\":true,\"gridcolor\":\"white\",\"linecolor\":\"white\",\"showgrid\":true,\"tickcolor\":\"rgb(51,51,51)\",\"ticks\":\"outside\",\"title\":{\"standoff\":15},\"zerolinecolor\":\"white\"},\"yaxis\":{\"automargin\":true,\"gridcolor\":\"white\",\"linecolor\":\"white\",\"showgrid\":true,\"tickcolor\":\"rgb(51,51,51)\",\"ticks\":\"outside\",\"title\":{\"standoff\":15},\"zerolinecolor\":\"white\"}}},\"scene\":{\"domain\":{\"x\":[0.0,1.0],\"y\":[0.0,1.0]},\"xaxis\":{\"title\":{\"text\":\"GDP per capita\"},\"type\":\"log\",\"range\":[2.6989700043360183,5.0]},\"yaxis\":{\"title\":{\"text\":\"% Econ. active\"},\"range\":[5,100]},\"zaxis\":{\"title\":{\"text\":\"Years Women are in School\"},\"range\":[0,14]}},\"legend\":{\"title\":{\"text\":\"Continent\"},\"tracegroupgap\":0},\"title\":{\"text\":\"Female Labor Force Participation Analysis\"},\"height\":700,\"updatemenus\":[{\"buttons\":[{\"args\":[null,{\"frame\":{\"duration\":500,\"redraw\":true},\"mode\":\"immediate\",\"fromcurrent\":true,\"transition\":{\"duration\":500,\"easing\":\"linear\"}}],\"label\":\"&#9654;\",\"method\":\"animate\"},{\"args\":[[null],{\"frame\":{\"duration\":0,\"redraw\":true},\"mode\":\"immediate\",\"fromcurrent\":true,\"transition\":{\"duration\":0,\"easing\":\"linear\"}}],\"label\":\"&#9724;\",\"method\":\"animate\"}],\"direction\":\"left\",\"pad\":{\"r\":10,\"t\":70},\"showactive\":false,\"type\":\"buttons\",\"x\":0.1,\"xanchor\":\"right\",\"y\":0,\"yanchor\":\"top\"}],\"sliders\":[{\"active\":0,\"currentvalue\":{\"prefix\":\"Year=\"},\"len\":0.9,\"pad\":{\"b\":10,\"t\":60},\"steps\":[{\"args\":[[\"1990\"],{\"frame\":{\"duration\":0,\"redraw\":true},\"mode\":\"immediate\",\"fromcurrent\":true,\"transition\":{\"duration\":0,\"easing\":\"linear\"}}],\"label\":\"1990\",\"method\":\"animate\"},{\"args\":[[\"1995\"],{\"frame\":{\"duration\":0,\"redraw\":true},\"mode\":\"immediate\",\"fromcurrent\":true,\"transition\":{\"duration\":0,\"easing\":\"linear\"}}],\"label\":\"1995\",\"method\":\"animate\"},{\"args\":[[\"2000\"],{\"frame\":{\"duration\":0,\"redraw\":true},\"mode\":\"immediate\",\"fromcurrent\":true,\"transition\":{\"duration\":0,\"easing\":\"linear\"}}],\"label\":\"2000\",\"method\":\"animate\"},{\"args\":[[\"2005\"],{\"frame\":{\"duration\":0,\"redraw\":true},\"mode\":\"immediate\",\"fromcurrent\":true,\"transition\":{\"duration\":0,\"easing\":\"linear\"}}],\"label\":\"2005\",\"method\":\"animate\"},{\"args\":[[\"2010\"],{\"frame\":{\"duration\":0,\"redraw\":true},\"mode\":\"immediate\",\"fromcurrent\":true,\"transition\":{\"duration\":0,\"easing\":\"linear\"}}],\"label\":\"2010\",\"method\":\"animate\"}],\"x\":0.1,\"xanchor\":\"left\",\"y\":0,\"yanchor\":\"top\"}]},                        {\"responsive\": true}                    ).then(function(){\n",
              "                            Plotly.addFrames('ed4c32e4-76cb-4ba5-aa71-b5b65c7a59e3', [{\"data\":[{\"hovertemplate\":\"\\u003cb\\u003e%{hovertext}\\u003c\\u002fb\\u003e\\u003cbr\\u003e\\u003cbr\\u003eContinent=Europe\\u003cbr\\u003eYear=1990\\u003cbr\\u003eGDP per capita=%{x}\\u003cbr\\u003e% Econ. active=%{y}\\u003cbr\\u003eYears Women are in School=%{z}\\u003cextra\\u003e\\u003c\\u002fextra\\u003e\",\"hovertext\":[\"Albania\",\"Austria\",\"Belgium\",\"Bulgaria\",\"Denmark\",\"Finland\",\"France\",\"Germany\",\"Greece\",\"Hungary\",\"Iceland\",\"Italy\",\"Luxembourg\",\"Malta\",\"Netherlands\",\"Norway\",\"Poland\",\"Portugal\",\"Romania\",\"San Marino\",\"Spain\",\"Sweden\",\"Switzerland\",\"United Kingdom\"],\"legendgroup\":\"Europe\",\"marker\":{\"color\":\"magenta\",\"symbol\":\"circle\"},\"mode\":\"markers\",\"name\":\"Europe\",\"scene\":\"scene\",\"showlegend\":true,\"x\":[4722.838166,31341.90238,30647.82135,9296.952206,33785.65014,28905.57032,29514.853810000004,31287.06981,20686.13676,null,null,31141.90286,57618.0207,16176.49077,32090.21105,42813.76496,10276.57333,20166.92799,11422.46995,null,23758.7281,30933.63273,48181.75578,26827.84226],\"y\":[53.59000015,43.43299866,36.55799866,54.44499969,61.05099869,58.97600174,46.32799911,45.22700119,36.05899811,47.01699829,67.64199829,35.30199814,34.12099838,27.9279995,43.04899979,55.21300125,53.87400055,48.35900116,62.07600021,null,33.84000015,63.13600159,57.02299881,51.99300003],\"z\":[8.483493,8.00415,10.55961,9.296712,11.3936,9.170885,8.787752000000001,8.626876,10.02799,9.94243,9.834145,8.940700999999999,9.115874,9.774269,10.63524,10.96601,10.09329,7.527503,10.24098,null,7.957942999999999,11.56815,9.942136,9.564902],\"type\":\"scatter3d\"},{\"hovertemplate\":\"\\u003cb\\u003e%{hovertext}\\u003c\\u002fb\\u003e\\u003cbr\\u003e\\u003cbr\\u003eContinent=Africa\\u003cbr\\u003eYear=1990\\u003cbr\\u003eGDP per capita=%{x}\\u003cbr\\u003e% Econ. active=%{y}\\u003cbr\\u003eYears Women are in School=%{z}\\u003cextra\\u003e\\u003c\\u002fextra\\u003e\",\"hovertext\":[\"Algeria\",\"Angola\",\"Benin\",\"Burkina Faso\",\"Chad\",\"Comoros\",\"Congo\",\"Cote d'Ivoire\",\"Egypt\",\"Eritrea\",\"Ethiopia\",\"Gambia\",\"Ghana\",\"Guinea\",\"Kenya\",\"Liberia\",\"Libya\",\"Mauritania\",\"Morocco\",\"Niger\",\"Nigeria\",\"Rwanda\",\"Sudan\",\"Swaziland\",\"Tanzania\",\"Togo\",\"Tunisia\",\"Uganda\"],\"legendgroup\":\"Africa\",\"marker\":{\"color\":\"green\",\"symbol\":\"circle\"},\"mode\":\"markers\",\"name\":\"Africa\",\"scene\":\"scene\",\"showlegend\":true,\"x\":[10236.84066,3430.798427,1462.677421,844.3421676,1110.4379800000002,1599.95155,5140.4161460000005,3193.758531,5909.161575,null,651.9530906,1506.404687,1919.601511,1411.9489210000002,2380.495384,875.1895802000001,null,2806.73383,3912.005724,894.5407505000001,3041.509363,872.5285226,1743.4460390000002,5378.167768,1472.58375,1350.133276,5614.938383,769.4524841],\"y\":[11.49600029,75.15100098,57.34899902,76.21800232,64.89499664,31.55699921,65.76300049,48.52799988,21.3409996,75.22399902,66.49400329999999,44.97800064,72.41799927,63.0320015,70.32499695,52.80099869,20.00699997,29.95000076,24.08300018,68.13300323,47.57699966,86.77500153,23.44799995,37.64099884,82.10099792,80.84300232,22.50300026,62.46900177],\"z\":[3.588133,null,1.330599,null,null,null,4.8055010000000005,1.6184120000000002,3.469171,null,null,1.133028,4.6187,null,3.734478,1.614228,4.490730999999999,2.056543,2.174845,0.4768059,null,1.808815,1.630814,5.634875,3.5471220000000003,2.567736,3.593658,2.740765],\"type\":\"scatter3d\"}],\"name\":\"1990\"},{\"data\":[{\"hovertemplate\":\"\\u003cb\\u003e%{hovertext}\\u003c\\u002fb\\u003e\\u003cbr\\u003e\\u003cbr\\u003eContinent=Europe\\u003cbr\\u003eYear=1995\\u003cbr\\u003eGDP per capita=%{x}\\u003cbr\\u003e% Econ. active=%{y}\\u003cbr\\u003eYears Women are in School=%{z}\\u003cextra\\u003e\\u003c\\u002fextra\\u003e\",\"hovertext\":[\"Albania\",\"Austria\",\"Belgium\",\"Bulgaria\",\"Denmark\",\"Finland\",\"France\",\"Germany\",\"Greece\",\"Hungary\",\"Iceland\",\"Italy\",\"Luxembourg\",\"Malta\",\"Netherlands\",\"Norway\",\"Poland\",\"Portugal\",\"Romania\",\"San Marino\",\"Spain\",\"Sweden\",\"Switzerland\",\"United Kingdom\"],\"legendgroup\":\"Europe\",\"marker\":{\"color\":\"magenta\",\"symbol\":\"circle\"},\"mode\":\"markers\",\"name\":\"Europe\",\"scene\":\"scene\",\"showlegend\":true,\"x\":[4278.689663,33791.80147,32613.40784,8446.248528,37237.72328,27596.41289,30918.067960000004,33653.12964,21247.0409,15319.2828,null,33152.040989999994,65357.504270000005,19822.29923,34762.86937,50051.87133,11300.27108,21850.74,10493.45747,null,25051.23368,31076.90485,46256.97059,28682.342160000004],\"y\":[53.5019989,48.80799866,40.47700119,50.87200165,57.95199966,54.75500107,47.72900009,47.85800171,36.93899918,40.61100006,71.28199768,33.57300186,35.28300095,28.27199936,47.30799866,57.24200058,51.15100098,49.25500107,61.82899857,null,36.68500137,59.08499908,55.80099869,51.80199814],\"z\":[8.972430000000001,8.706908,11.22274,9.944443,11.96544,10.2071,9.867418,9.59905,10.38584,11.05961,10.44296,9.847032,9.543327,10.99308,10.92608,11.52153,10.80575,8.618181,10.90898,null,9.251032,11.74699,9.58447,9.88399],\"type\":\"scatter3d\"},{\"hovertemplate\":\"\\u003cb\\u003e%{hovertext}\\u003c\\u002fb\\u003e\\u003cbr\\u003e\\u003cbr\\u003eContinent=Africa\\u003cbr\\u003eYear=1995\\u003cbr\\u003eGDP per capita=%{x}\\u003cbr\\u003e% Econ. active=%{y}\\u003cbr\\u003eYears Women are in School=%{z}\\u003cextra\\u003e\\u003c\\u002fextra\\u003e\",\"hovertext\":[\"Algeria\",\"Angola\",\"Benin\",\"Burkina Faso\",\"Chad\",\"Comoros\",\"Congo\",\"Cote d'Ivoire\",\"Egypt\",\"Eritrea\",\"Ethiopia\",\"Gambia\",\"Ghana\",\"Guinea\",\"Kenya\",\"Liberia\",\"Libya\",\"Mauritania\",\"Morocco\",\"Niger\",\"Nigeria\",\"Rwanda\",\"Sudan\",\"Swaziland\",\"Tanzania\",\"Togo\",\"Tunisia\",\"Uganda\"],\"legendgroup\":\"Africa\",\"marker\":{\"color\":\"green\",\"symbol\":\"circle\"},\"mode\":\"markers\",\"name\":\"Africa\",\"scene\":\"scene\",\"showlegend\":true,\"x\":[9295.420114,2465.396619,1515.06774,893.2406808000001,1040.916137,1437.832802,4582.106819,2898.400745,6292.662391,1586.092241,574.8370982000001,1437.018694,2066.197615,1311.962151,2204.3898870000003,247.4365395,null,2861.843656,3915.217615,784.6071307999999,2750.071529,679.540322,1960.649671,5605.569907,1368.211617,1200.880848,6131.297603,916.2448658],\"y\":[11.8039999,74.66400146,59.91799927,72.90799713,64.63600159,31.71999931,65.63999939,48.4129982,21.00399971,74.44699859999999,67.54199982,45.51100159,72.55000305,62.7140007,70.10399628,51.70600128,21.9470005,30.01000023,24.4810009,67.93900299,47.31299973,86.09300232,27.60899925,37.52899933,81.86399841,80.53800201,22.89100075,63.20600128],\"z\":[4.566578,null,1.73409,null,null,null,5.431335,2.317236,4.36969,null,null,1.535555,5.303111,null,4.458177,1.813213,5.54574,2.297661,2.760362,0.6235033,null,2.4734130000000003,2.072459,5.344981,4.081976,2.984071,4.557305,3.246503],\"type\":\"scatter3d\"}],\"name\":\"1995\"},{\"data\":[{\"hovertemplate\":\"\\u003cb\\u003e%{hovertext}\\u003c\\u002fb\\u003e\\u003cbr\\u003e\\u003cbr\\u003eContinent=Europe\\u003cbr\\u003eYear=2000\\u003cbr\\u003eGDP per capita=%{x}\\u003cbr\\u003e% Econ. active=%{y}\\u003cbr\\u003eYears Women are in School=%{z}\\u003cextra\\u003e\\u003c\\u002fextra\\u003e\",\"hovertext\":[\"Albania\",\"Austria\",\"Belgium\",\"Bulgaria\",\"Denmark\",\"Finland\",\"France\",\"Germany\",\"Greece\",\"Hungary\",\"Iceland\",\"Italy\",\"Luxembourg\",\"Malta\",\"Netherlands\",\"Norway\",\"Poland\",\"Portugal\",\"Romania\",\"San Marino\",\"Spain\",\"Sweden\",\"Switzerland\",\"United Kingdom\"],\"legendgroup\":\"Europe\",\"marker\":{\"color\":\"magenta\",\"symbol\":\"circle\"},\"mode\":\"markers\",\"name\":\"Europe\",\"scene\":\"scene\",\"showlegend\":true,\"x\":[5668.574777000001,38844.40471,37188.64369,8833.446566,42337.71437,34887.1788,34880.88182,36764.56293,24839.07591,17951.73552,34044.64902,36535.81877,81689.8164,24623.95372,41721.69405,58045.06727000001,14732.482,25999.49069,10470.96597,75678.5028,29967.13145,36854.868760000005,50775.97634,33266.11643],\"y\":[51.7179985,48.94400024,43.56999969,44.25600052,60.04999924,56.18899918,48.60499954,49.06499863,40.84899902,41.11199951,73.73699951,35.44599915,41.38199997,29.91399956,53.22000122,61.26399994,49.58100128,52.63100052,57.86899948,null,40.58200073,58.34600067,57.77299881,53.55400085],\"z\":[10.55099,9.378311,11.53041,10.22347,12.24365,10.73768,10.72463,10.14722,10.66628,11.68146,10.94124,10.46696,9.856388,11.25344,11.14206,11.77162,11.19825,9.722379,11.00754,null,10.26253,12.00516,9.410982,10.40127],\"type\":\"scatter3d\"},{\"hovertemplate\":\"\\u003cb\\u003e%{hovertext}\\u003c\\u002fb\\u003e\\u003cbr\\u003e\\u003cbr\\u003eContinent=Africa\\u003cbr\\u003eYear=2000\\u003cbr\\u003eGDP per capita=%{x}\\u003cbr\\u003e% Econ. active=%{y}\\u003cbr\\u003eYears Women are in School=%{z}\\u003cextra\\u003e\\u003c\\u002fextra\\u003e\",\"hovertext\":[\"Algeria\",\"Angola\",\"Benin\",\"Burkina Faso\",\"Chad\",\"Comoros\",\"Congo\",\"Cote d'Ivoire\",\"Egypt\",\"Eritrea\",\"Ethiopia\",\"Gambia\",\"Ghana\",\"Guinea\",\"Kenya\",\"Liberia\",\"Libya\",\"Mauritania\",\"Morocco\",\"Niger\",\"Nigeria\",\"Rwanda\",\"Sudan\",\"Swaziland\",\"Tanzania\",\"Togo\",\"Tunisia\",\"Uganda\"],\"legendgroup\":\"Africa\",\"marker\":{\"color\":\"green\",\"symbol\":\"circle\"},\"mode\":\"markers\",\"name\":\"Africa\",\"scene\":\"scene\",\"showlegend\":true,\"x\":[10211.00186,2873.19301,1666.467464,1075.395337,993.1829822,1480.917674,4480.147677,2947.606573,7388.356411,1679.147143,618.2422187000001,1549.585721,2259.063142,1420.633253,2132.161897,838.6989396,21921.55202,2751.155549,4483.808406,753.4295254,2848.15052,792.9235783,2286.658691,5839.267051,1481.527903,1276.990341,7573.929212999999,1049.778625],\"y\":[11.89299965,74.73200226,63.92900085,68.02700043,64.48400116,32.35100174,66.04799652,48.40800095,19.90099907,74.09200287,72.72899628,46.71300125,72.72699738,62.70399857,68.49900055,52.96500015,24.4090004,30.1989994,25.25200081,67.76999664,47.22700119,85.47499847,26.59900093,38.11199951,81.70899963,80.35600281,23.44199944,64.02400208],\"z\":[5.309376,null,2.135805,null,null,null,5.870553,2.988317,5.413069999999999,null,null,1.949296,6.097065,null,5.082478,2.204974,7.065709,2.612433,3.260422,0.7723519,null,3.043703,2.5412,4.705796,4.553654,3.42,5.6366,3.73116],\"type\":\"scatter3d\"}],\"name\":\"2000\"},{\"data\":[{\"hovertemplate\":\"\\u003cb\\u003e%{hovertext}\\u003c\\u002fb\\u003e\\u003cbr\\u003e\\u003cbr\\u003eContinent=Europe\\u003cbr\\u003eYear=2005\\u003cbr\\u003eGDP per capita=%{x}\\u003cbr\\u003e% Econ. active=%{y}\\u003cbr\\u003eYears Women are in School=%{z}\\u003cextra\\u003e\\u003c\\u002fextra\\u003e\",\"hovertext\":[\"Albania\",\"Austria\",\"Belgium\",\"Bulgaria\",\"Denmark\",\"Finland\",\"France\",\"Germany\",\"Greece\",\"Hungary\",\"Iceland\",\"Italy\",\"Luxembourg\",\"Malta\",\"Netherlands\",\"Norway\",\"Poland\",\"Portugal\",\"Romania\",\"San Marino\",\"Spain\",\"Sweden\",\"Switzerland\",\"United Kingdom\"],\"legendgroup\":\"Europe\",\"marker\":{\"color\":\"magenta\",\"symbol\":\"circle\"},\"mode\":\"markers\",\"name\":\"Europe\",\"scene\":\"scene\",\"showlegend\":true,\"x\":[7733.006933,41282.87999,39802.97227,12419.92875,44567.93131,39115.76479,36505.84873,37703.93294,29559.28139,22452.81593,39679.03924,37604.36062,88610.28987000001,26343.58536,43507.30043,62864.79647,17193.52373,26593.28555,14582.57431,83600.04794,32901.98773,41227.308710000005,52770.46893,37159.79896],\"y\":[48.05099869,50.66699982,45.48699951,44.74300003,60.49900055,56.62200165,50.11700058,50.70000076,42.7120018,42.91799927,70.87599945,37.86199951,45.36800003,29.62800026,56.64300156,60.7140007,47.7879982,55.2840004,46.31299973,null,46.09899902,59.58100128,59.45899963,54.71300125],\"z\":[10.69629,9.76521,11.51243,10.91005,12.16045,11.08979,11.28653,11.7662,11.58058,12.03843,11.62922,10.89173,10.57241,11.26292,11.21298,11.9036,11.86333,9.249411,11.05624,null,11.06696,12.01342,10.42786,12.01125],\"type\":\"scatter3d\"},{\"hovertemplate\":\"\\u003cb\\u003e%{hovertext}\\u003c\\u002fb\\u003e\\u003cbr\\u003e\\u003cbr\\u003eContinent=Africa\\u003cbr\\u003eYear=2005\\u003cbr\\u003eGDP per capita=%{x}\\u003cbr\\u003e% Econ. active=%{y}\\u003cbr\\u003eYears Women are in School=%{z}\\u003cextra\\u003e\\u003c\\u002fextra\\u003e\",\"hovertext\":[\"Algeria\",\"Angola\",\"Benin\",\"Burkina Faso\",\"Chad\",\"Comoros\",\"Congo\",\"Cote d'Ivoire\",\"Egypt\",\"Eritrea\",\"Ethiopia\",\"Gambia\",\"Ghana\",\"Guinea\",\"Kenya\",\"Liberia\",\"Libya\",\"Mauritania\",\"Morocco\",\"Niger\",\"Nigeria\",\"Rwanda\",\"Sudan\",\"Swaziland\",\"Tanzania\",\"Togo\",\"Tunisia\",\"Uganda\"],\"legendgroup\":\"Africa\",\"marker\":{\"color\":\"green\",\"symbol\":\"circle\"},\"mode\":\"markers\",\"name\":\"Africa\",\"scene\":\"scene\",\"showlegend\":true,\"x\":[12322.48426,3987.814936,1735.97415,1266.361537,1793.406936,1471.559414,4742.935979999999,2682.448861,8001.516541,1628.869863,732.3804985,1533.249642,2539.329254,1504.031193,2224.0310010000003,597.8870314,26044.50141,2985.690698,5361.662834000001,763.2097772000001,4149.277997,1043.860774,2712.890404,6745.7178030000005,1820.07786,1180.416217,8802.943118000001,1222.703216],\"y\":[12.84300041,74.85399628,67.33200073,62.43500137,64.86799622,33.31800079,66.71399689,48.31499863,20.2329998,73.84400177,78.40499878,48.5320015,73.11699677,62.79499817,60.12900162,52.97000122,27.44400024,30.16399956,26.66900063,67.76999664,47.75299835,85.22599792,24.47500038,38.82400131,81.81900024,80.48300171,23.875,64.96399689],\"z\":[6.032556,null,2.6025240000000003,null,null,null,5.871382,3.442661,6.288136,null,null,2.597444,6.435355,null,5.899399,2.635418,8.396339,3.160787,3.922621,0.9673737,null,3.679489,2.931233,4.300684,5.138483,3.890025,6.770233999999999,4.365105000000001],\"type\":\"scatter3d\"}],\"name\":\"2005\"},{\"data\":[{\"hovertemplate\":\"\\u003cb\\u003e%{hovertext}\\u003c\\u002fb\\u003e\\u003cbr\\u003e\\u003cbr\\u003eContinent=Europe\\u003cbr\\u003eYear=2010\\u003cbr\\u003eGDP per capita=%{x}\\u003cbr\\u003e% Econ. active=%{y}\\u003cbr\\u003eYears Women are in School=%{z}\\u003cextra\\u003e\\u003c\\u002fextra\\u003e\",\"hovertext\":[\"Albania\",\"Austria\",\"Belgium\",\"Bulgaria\",\"Denmark\",\"Finland\",\"France\",\"Germany\",\"Greece\",\"Hungary\",\"Iceland\",\"Italy\",\"Luxembourg\",\"Malta\",\"Netherlands\",\"Norway\",\"Poland\",\"Portugal\",\"Romania\",\"San Marino\",\"Spain\",\"Sweden\",\"Switzerland\",\"United Kingdom\"],\"legendgroup\":\"Europe\",\"marker\":{\"color\":\"magenta\",\"symbol\":\"circle\"},\"mode\":\"markers\",\"name\":\"Europe\",\"scene\":\"scene\",\"showlegend\":true,\"x\":[9927.181841,43336.19785,41085.91894,15283.291480000002,43998.43667,39848.1345,36855.84468,40428.72103,28726.07928,22404.2392,38978.0056,36201.16157,91743.29389,28364.79932,45524.66214,62350.41071,21770.64444,27238.46067,17553.2833,73862.33744,32507.09397,42942.5625,55866.30507,36366.98318],\"y\":[45.69300079,53.50699997,47.49100113,47.69800186,59.79899979,56.02500153,50.92300034,52.7879982,44.75,43.77700043,70.63400269,37.78499985,48.82799911,34.08300018,58.24900055,61.79000092,48.27199936,55.81399918,46.33100128,null,51.54399872,58.89799881,59.91999817,55.45500183],\"z\":[10.66144,10.05477,11.65948,11.13841,11.93674,11.19973,11.79715,12.24965,11.94519,11.95175,12.39173,11.35855,11.32367,12.07201,11.86591,11.51435,12.08951,9.769664,11.16327,null,11.26946,12.08298,12.65844,12.77681],\"type\":\"scatter3d\"},{\"hovertemplate\":\"\\u003cb\\u003e%{hovertext}\\u003c\\u002fb\\u003e\\u003cbr\\u003e\\u003cbr\\u003eContinent=Africa\\u003cbr\\u003eYear=2010\\u003cbr\\u003eGDP per capita=%{x}\\u003cbr\\u003e% Econ. active=%{y}\\u003cbr\\u003eYears Women are in School=%{z}\\u003cextra\\u003e\\u003c\\u002fextra\\u003e\",\"hovertext\":[\"Algeria\",\"Angola\",\"Benin\",\"Burkina Faso\",\"Chad\",\"Comoros\",\"Congo\",\"Cote d'Ivoire\",\"Egypt\",\"Eritrea\",\"Ethiopia\",\"Gambia\",\"Ghana\",\"Guinea\",\"Kenya\",\"Liberia\",\"Libya\",\"Mauritania\",\"Morocco\",\"Niger\",\"Nigeria\",\"Rwanda\",\"Sudan\",\"Swaziland\",\"Tanzania\",\"Togo\",\"Tunisia\",\"Uganda\"],\"legendgroup\":\"Africa\",\"marker\":{\"color\":\"green\",\"symbol\":\"circle\"},\"mode\":\"markers\",\"name\":\"Africa\",\"scene\":\"scene\",\"showlegend\":true,\"x\":[12870.6027,5897.682841,1818.778461,1423.377706,1925.195118,1412.502687,5186.344788,2690.258002,9857.468282,1416.365802,1073.8262949999998,1644.242366,3059.3836260000003,1573.544958,2476.0107420000004,699.6537215,29630.22215,3316.97478,6443.253613,814.2409362000001,5150.158818,1365.17424,3366.096261,7296.511119,2090.583225,1208.28121,10436.3656,1515.866412],\"y\":[14.37899971,75.28299713,69.22399902,59.7179985,64.84799957,34.40100098,67.53700256,48.16600037,22.78000069,74.71900177,77.62599945,50.25899887,73.79399872,62.84199905,61.52999878,53.56200027,29.32699966,30.36300087,25.59700012,67.70700073,49.20100021,86.10800171,22.95700073,40.28699875,81.90599823,77.02300262,24.4640007,65.87599945],\"z\":[7.1039520000000005,null,3.266152,null,null,null,6.010641000000001,4.00035,7.258957,null,null,3.232567,6.885495,null,6.27312,3.166952,9.807397,3.932477,4.79899,1.292325,null,4.222264,3.333889,4.908533,5.70303,4.5030730000000005,7.972939999999999,5.288293],\"type\":\"scatter3d\"}],\"name\":\"2010\"}]);\n",
              "                        }).then(function(){\n",
              "                            \n",
              "var gd = document.getElementById('ed4c32e4-76cb-4ba5-aa71-b5b65c7a59e3');\n",
              "var x = new MutationObserver(function (mutations, observer) {{\n",
              "        var display = window.getComputedStyle(gd).display;\n",
              "        if (!display || display === 'none') {{\n",
              "            console.log([gd, 'removed!']);\n",
              "            Plotly.purge(gd);\n",
              "            observer.disconnect();\n",
              "        }}\n",
              "}});\n",
              "\n",
              "// Listen for the removal of the full notebook cells\n",
              "var notebookContainer = gd.closest('#notebook-container');\n",
              "if (notebookContainer) {{\n",
              "    x.observe(notebookContainer, {childList: true});\n",
              "}}\n",
              "\n",
              "// Listen for the clearing of the current output cell\n",
              "var outputEl = gd.closest('.output');\n",
              "if (outputEl) {{\n",
              "    x.observe(outputEl, {childList: true});\n",
              "}}\n",
              "\n",
              "                        })                };                            </script>        </div>\n",
              "</body>\n",
              "</html>"
            ]
          },
          "metadata": {}
        }
      ]
    },
    {
      "cell_type": "code",
      "source": [],
      "metadata": {
        "id": "0L10fv9ic0zQ"
      },
      "execution_count": null,
      "outputs": []
    }
  ]
}